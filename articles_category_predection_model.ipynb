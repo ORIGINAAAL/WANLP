{
 "cells": [
  {
   "cell_type": "markdown",
   "id": "c850b504-83b0-4e57-bac0-bc3928352cb4",
   "metadata": {},
   "source": [
    "**import necessary libraries**"
   ]
  },
  {
   "cell_type": "code",
   "execution_count": 48,
   "id": "3c98d31f-402b-4ac8-93b4-f65b92d6a4c0",
   "metadata": {},
   "outputs": [],
   "source": [
    "import json\n",
    "import os\n",
    "import csv\n",
    "\n",
    "import nltk\n",
    "import pandas as  pd\n",
    "import numpy as np\n",
    "import spacy\n",
    "\n",
    "import seaborn as sns\n",
    "import string\n",
    "\n",
    "from tqdm import tqdm\n",
    "from textblob import TextBlob\n",
    "\n",
    "from nltk.corpus import stopwords\n",
    "import nltk\n",
    "from nltk.stem import WordNetLemmatizer\n",
    "from nltk import word_tokenize\n",
    "from nltk.stem.isri import ISRIStemmer\n",
    "from nltk.tokenize import RegexpTokenizer\n",
    "from nltk.corpus import stopwords\n",
    "from nltk.stem import WordNetLemmatizer\n",
    "from nltk.tag import pos_tag\n",
    "\n",
    "import re\n",
    "\n",
    "\n",
    "from sklearn.model_selection import train_test_split\n",
    "from sklearn.preprocessing import LabelEncoder\n",
    "from sklearn.feature_extraction.text import CountVectorizer\n",
    "from sklearn.feature_extraction.text import TfidfTransformer\n",
    "from sklearn.naive_bayes import MultinomialNB\n",
    "from sklearn.pipeline import Pipeline\n",
    "\n",
    "\n",
    "from sklearn.preprocessing import FunctionTransformer\n",
    "from sklearn.base import BaseEstimator, TransformerMixin\n",
    "from sklearn.pipeline import FeatureUnion\n",
    "from sklearn.feature_extraction import DictVectorizer\n",
    "\n",
    "from sklearn.metrics import classification_report, confusion_matrix\n"
   ]
  },
  {
   "cell_type": "markdown",
   "id": "330d620d-4669-48c8-bddd-f7e5b45ff5de",
   "metadata": {},
   "source": [
    "**Dataset exploration**"
   ]
  },
  {
   "cell_type": "code",
   "execution_count": 7,
   "id": "5804c1ab-6c65-4a94-adeb-ce6fb6b13550",
   "metadata": {},
   "outputs": [
    {
     "data": {
      "text/plain": [
       "<Axes: xlabel='category'>"
      ]
     },
     "execution_count": 7,
     "metadata": {},
     "output_type": "execute_result"
    },
    {
     "data": {
      "image/png": "[encoded data removed]",
      "text/plain": [
       "<Figure size 400x300 with 1 Axes>"
      ]
     },
     "metadata": {},
     "output_type": "display_data"
    }
   ],
   "source": [
    "df['category'].value_counts().plot( kind='bar', figsize=(4,3))"
   ]
  },
  {
   "cell_type": "code",
   "execution_count": 8,
   "id": "ba82e4c6-6293-4d3c-b3db-5b0ee6344f02",
   "metadata": {},
   "outputs": [
    {
     "data": {
      "text/html": [
       "<div>\n",
       "<style scoped>\n",
       "    .dataframe tbody tr th:only-of-type {\n",
       "        vertical-align: middle;\n",
       "    }\n",
       "\n",
       "    .dataframe tbody tr th {\n",
       "        vertical-align: top;\n",
       "    }\n",
       "\n",
       "    .dataframe thead tr th {\n",
       "        text-align: left;\n",
       "    }\n",
       "\n",
       "    .dataframe thead tr:last-of-type th {\n",
       "        text-align: right;\n",
       "    }\n",
       "</style>\n",
       "<table border=\"1\" class=\"dataframe\">\n",
       "  <thead>\n",
       "    <tr>\n",
       "      <th></th>\n",
       "      <th colspan=\"4\" halign=\"left\">article</th>\n",
       "    </tr>\n",
       "    <tr>\n",
       "      <th></th>\n",
       "      <th>count</th>\n",
       "      <th>unique</th>\n",
       "      <th>top</th>\n",
       "      <th>freq</th>\n",
       "    </tr>\n",
       "    <tr>\n",
       "      <th>category</th>\n",
       "      <th></th>\n",
       "      <th></th>\n",
       "      <th></th>\n",
       "      <th></th>\n",
       "    </tr>\n",
       "  </thead>\n",
       "  <tbody>\n",
       "    <tr>\n",
       "      <th>Culture</th>\n",
       "      <td>6500</td>\n",
       "      <td>6495</td>\n",
       "      <td>يتمتع الفنان التشكيلي المغربي أحمد جاريد بمرجع...</td>\n",
       "      <td>2</td>\n",
       "    </tr>\n",
       "    <tr>\n",
       "      <th>Politics</th>\n",
       "      <td>6500</td>\n",
       "      <td>6499</td>\n",
       "      <td>نشرت مجموعة قراصنة الإنترنت أنونيموس الليلة قب...</td>\n",
       "      <td>2</td>\n",
       "    </tr>\n",
       "    <tr>\n",
       "      <th>Sports</th>\n",
       "      <td>6500</td>\n",
       "      <td>6499</td>\n",
       "      <td>سيفتقد منتخب البيرو في كوبا أمريكا التي تحتضنه...</td>\n",
       "      <td>2</td>\n",
       "    </tr>\n",
       "  </tbody>\n",
       "</table>\n",
       "</div>"
      ],
      "text/plain": [
       "         article                                                            \\\n",
       "           count unique                                                top   \n",
       "category                                                                     \n",
       "Culture     6500   6495  يتمتع الفنان التشكيلي المغربي أحمد جاريد بمرجع...   \n",
       "Politics    6500   6499  نشرت مجموعة قراصنة الإنترنت أنونيموس الليلة قب...   \n",
       "Sports      6500   6499  سيفتقد منتخب البيرو في كوبا أمريكا التي تحتضنه...   \n",
       "\n",
       "               \n",
       "         freq  \n",
       "category       \n",
       "Culture     2  \n",
       "Politics    2  \n",
       "Sports      2  "
      ]
     },
     "execution_count": 8,
     "metadata": {},
     "output_type": "execute_result"
    }
   ],
   "source": [
    "df.groupby('category').describe()"
   ]
  },
  {
   "cell_type": "markdown",
   "id": "73a55bec-0d53-41b1-93c3-556302815153",
   "metadata": {},
   "source": [
    "**Preprocessing**"
   ]
  },
  {
   "cell_type": "code",
   "execution_count": 67,
   "id": "fef32542-3758-49fd-a175-2e17303aecc6",
   "metadata": {},
   "outputs": [],
   "source": [
    "# we use this method to enumerate the categoreis\n",
    "def enumerate_categories(category):\n",
    "    if category =='Sports':\n",
    "        return 1\n",
    "    elif category =='Politics':\n",
    "        return 2\n",
    "    elif category =='Culture':\n",
    "        return 3"
   ]
  },
  {
   "cell_type": "code",
   "execution_count": 68,
   "id": "9c098dec-8b6f-454d-a308-9fbed40a5561",
   "metadata": {},
   "outputs": [],
   "source": [
    "# creat new feature that contain the category in number\n",
    "df['category_id'] = df['category'].apply(enumerate_categories)"
   ]
  },
  {
   "cell_type": "code",
   "execution_count": 11,
   "id": "47b9a6a7-dc6c-481f-9d6a-767d98e796f9",
   "metadata": {},
   "outputs": [
    {
     "data": {
      "text/html": [
       "<div>\n",
       "<style scoped>\n",
       "    .dataframe tbody tr th:only-of-type {\n",
       "        vertical-align: middle;\n",
       "    }\n",
       "\n",
       "    .dataframe tbody tr th {\n",
       "        vertical-align: top;\n",
       "    }\n",
       "\n",
       "    .dataframe thead th {\n",
       "        text-align: right;\n",
       "    }\n",
       "</style>\n",
       "<table border=\"1\" class=\"dataframe\">\n",
       "  <thead>\n",
       "    <tr style=\"text-align: right;\">\n",
       "      <th></th>\n",
       "      <th>article</th>\n",
       "      <th>category</th>\n",
       "      <th>category_id</th>\n",
       "    </tr>\n",
       "  </thead>\n",
       "  <tbody>\n",
       "    <tr>\n",
       "      <th>0</th>\n",
       "      <td>احتفظ بنفيكا بمركز الصدارة بعد فوزه على مضيفه ...</td>\n",
       "      <td>Sports</td>\n",
       "      <td>1</td>\n",
       "    </tr>\n",
       "    <tr>\n",
       "      <th>1</th>\n",
       "      <td>كشفت تقارير عن موافقة النجم الفرنسي أنطوان غري...</td>\n",
       "      <td>Sports</td>\n",
       "      <td>1</td>\n",
       "    </tr>\n",
       "    <tr>\n",
       "      <th>2</th>\n",
       "      <td>أدلى مدرب فريق برشلونة الاسباني لكرة القدم خوس...</td>\n",
       "      <td>Sports</td>\n",
       "      <td>1</td>\n",
       "    </tr>\n",
       "    <tr>\n",
       "      <th>3</th>\n",
       "      <td>أعلن بلد الوليد صاحب المركز التاسع عشر قبل الأ...</td>\n",
       "      <td>Sports</td>\n",
       "      <td>1</td>\n",
       "    </tr>\n",
       "    <tr>\n",
       "      <th>4</th>\n",
       "      <td>أعلن ريال مدريد الإسباني بطل أوروبا أمس تمديد ...</td>\n",
       "      <td>Sports</td>\n",
       "      <td>1</td>\n",
       "    </tr>\n",
       "    <tr>\n",
       "      <th>...</th>\n",
       "      <td>...</td>\n",
       "      <td>...</td>\n",
       "      <td>...</td>\n",
       "    </tr>\n",
       "    <tr>\n",
       "      <th>19495</th>\n",
       "      <td>أكد إسماعيل عبدالله رئيس جمعية المسرحيين والمس...</td>\n",
       "      <td>Culture</td>\n",
       "      <td>3</td>\n",
       "    </tr>\n",
       "    <tr>\n",
       "      <th>19496</th>\n",
       "      <td>رفع الشعراء والنقاد المشاركون في فعاليات ملتقى...</td>\n",
       "      <td>Culture</td>\n",
       "      <td>3</td>\n",
       "    </tr>\n",
       "    <tr>\n",
       "      <th>19497</th>\n",
       "      <td>أنهت لجنة تحكيم مسابقة شاعر المليون، مقابلات ا...</td>\n",
       "      <td>Culture</td>\n",
       "      <td>3</td>\n",
       "    </tr>\n",
       "    <tr>\n",
       "      <th>19498</th>\n",
       "      <td>حوار: نجاة الفارس ولد الشاعر خالد الظنحاني، في...</td>\n",
       "      <td>Culture</td>\n",
       "      <td>3</td>\n",
       "    </tr>\n",
       "    <tr>\n",
       "      <th>19499</th>\n",
       "      <td>تطوان: عثمان حسن عبّر عبد الله العويس، رئيس دا...</td>\n",
       "      <td>Culture</td>\n",
       "      <td>3</td>\n",
       "    </tr>\n",
       "  </tbody>\n",
       "</table>\n",
       "<p>19500 rows × 3 columns</p>\n",
       "</div>"
      ],
      "text/plain": [
       "                                                 article category  category_id\n",
       "0      احتفظ بنفيكا بمركز الصدارة بعد فوزه على مضيفه ...   Sports            1\n",
       "1      كشفت تقارير عن موافقة النجم الفرنسي أنطوان غري...   Sports            1\n",
       "2      أدلى مدرب فريق برشلونة الاسباني لكرة القدم خوس...   Sports            1\n",
       "3      أعلن بلد الوليد صاحب المركز التاسع عشر قبل الأ...   Sports            1\n",
       "4      أعلن ريال مدريد الإسباني بطل أوروبا أمس تمديد ...   Sports            1\n",
       "...                                                  ...      ...          ...\n",
       "19495  أكد إسماعيل عبدالله رئيس جمعية المسرحيين والمس...  Culture            3\n",
       "19496  رفع الشعراء والنقاد المشاركون في فعاليات ملتقى...  Culture            3\n",
       "19497  أنهت لجنة تحكيم مسابقة شاعر المليون، مقابلات ا...  Culture            3\n",
       "19498  حوار: نجاة الفارس ولد الشاعر خالد الظنحاني، في...  Culture            3\n",
       "19499  تطوان: عثمان حسن عبّر عبد الله العويس، رئيس دا...  Culture            3\n",
       "\n",
       "[19500 rows x 3 columns]"
      ]
     },
     "execution_count": 11,
     "metadata": {},
     "output_type": "execute_result"
    }
   ],
   "source": [
    "df"
   ]
  },
  {
   "cell_type": "code",
   "execution_count": 69,
   "id": "399567ca-700e-4fba-a657-0a4d3e86b561",
   "metadata": {},
   "outputs": [],
   "source": [
    "# start the preprcessing\n",
    "st = ISRIStemmer()\n",
    "\n",
    "def preprocess_article(article):\n",
    "    # hna drna toknization \n",
    "    tokenizer = RegexpTokenizer(r'\\w+')\n",
    "    tokens = tokenizer.tokenize(article)\n",
    "    # hna drna part of speech tagging\n",
    "    pos = pos_tag(tokens)\n",
    "    '''# lemmatization\n",
    "    lemmatizer = WordNetLemmatizer()\n",
    "    lemmatized_tokens = [lemmatizer.lemmatize(token, pos=get_wordnet_pos(pos_tag)) for token, pos_tag in pos]'''\n",
    "    # hna drna stopword removal\n",
    "    ar_sw = set(stopwords.words('arabic'))\n",
    "    filtered_tokens = [token for token in stemming(pos) if token not in ar_sw]\n",
    "    # bind tokens back \n",
    "    enhanced_article = ' '.join(filtered_tokens)\n",
    "    return enhanced_article\n",
    "\n",
    "def stemming(tags):\n",
    "    stemed_tokens = []\n",
    "    for token,tag in tags:\n",
    "        if tag == 'NNP':\n",
    "            stemed_tokens.append(token)\n",
    "        else:\n",
    "            stem = st.stem(token)\n",
    "            stemed_tokens.append(stem)\n",
    "    return stemed_tokens"
   ]
  },
  {
   "cell_type": "code",
   "execution_count": 13,
   "id": "cab331b6-eb09-40db-b09a-a04ed4aaab47",
   "metadata": {},
   "outputs": [
    {
     "data": {
      "text/html": [
       "<div>\n",
       "<style scoped>\n",
       "    .dataframe tbody tr th:only-of-type {\n",
       "        vertical-align: middle;\n",
       "    }\n",
       "\n",
       "    .dataframe tbody tr th {\n",
       "        vertical-align: top;\n",
       "    }\n",
       "\n",
       "    .dataframe thead th {\n",
       "        text-align: right;\n",
       "    }\n",
       "</style>\n",
       "<table border=\"1\" class=\"dataframe\">\n",
       "  <thead>\n",
       "    <tr style=\"text-align: right;\">\n",
       "      <th></th>\n",
       "      <th>article</th>\n",
       "      <th>category</th>\n",
       "      <th>category_id</th>\n",
       "    </tr>\n",
       "  </thead>\n",
       "  <tbody>\n",
       "    <tr>\n",
       "      <th>0</th>\n",
       "      <td>حفظ بنفيكا بمركز الصدارة فوزه مضيفه ناسيونال ا...</td>\n",
       "      <td>Sports</td>\n",
       "      <td>1</td>\n",
       "    </tr>\n",
       "    <tr>\n",
       "      <th>1</th>\n",
       "      <td>كشف تقارير موافقة النجم الفرنسي أنطوان غريزمان...</td>\n",
       "      <td>Sports</td>\n",
       "      <td>1</td>\n",
       "    </tr>\n",
       "    <tr>\n",
       "      <th>2</th>\n",
       "      <td>دلى مدرب فريق برشلونة الاسباني لكرة القدم خوسي...</td>\n",
       "      <td>Sports</td>\n",
       "      <td>1</td>\n",
       "    </tr>\n",
       "  </tbody>\n",
       "</table>\n",
       "</div>"
      ],
      "text/plain": [
       "                                             article category  category_id\n",
       "0  حفظ بنفيكا بمركز الصدارة فوزه مضيفه ناسيونال ا...   Sports            1\n",
       "1  كشف تقارير موافقة النجم الفرنسي أنطوان غريزمان...   Sports            1\n",
       "2  دلى مدرب فريق برشلونة الاسباني لكرة القدم خوسي...   Sports            1"
      ]
     },
     "execution_count": 13,
     "metadata": {},
     "output_type": "execute_result"
    }
   ],
   "source": [
    "# applt the preprocessing to our articles\n",
    "df['article'] = df['article'].apply(preprocess_article)\n",
    "df.head(3)"
   ]
  },
  {
   "cell_type": "markdown",
   "id": "6ae91991-4b8d-4b1d-8995-29c0d066f690",
   "metadata": {},
   "source": [
    "**Train the model**"
   ]
  },
  {
   "cell_type": "code",
   "execution_count": 70,
   "id": "98db796e-2219-4efc-95cb-ade2c09a37a0",
   "metadata": {},
   "outputs": [],
   "source": [
    "# split eour data into test and train\n",
    "X_train, X_test, y_train, y_test = train_test_split(df.article,df.category_id)"
   ]
  },
  {
   "cell_type": "code",
   "execution_count": 71,
   "id": "eea804d0-fed8-4d00-9091-3dfc75cbeb84",
   "metadata": {},
   "outputs": [],
   "source": [
    "from sklearn.feature_extraction.text import CountVectorizer\n",
    "count_vctorizer = CountVectorizer()\n",
    "X_train_count = count_vctorizer.fit_transform(X_train.values)"
   ]
  },
  {
   "cell_type": "code",
   "execution_count": 72,
   "id": "40fe2fd1-db9e-4cdd-a874-9346a5fa3a22",
   "metadata": {},
   "outputs": [
    {
     "data": {
      "text/html": [
       "<style>#sk-container-id-2 {color: black;background-color: white;}#sk-container-id-2 pre{padding: 0;}#sk-container-id-2 div.sk-toggleable {background-color: white;}#sk-container-id-2 label.sk-toggleable__label {cursor: pointer;display: block;width: 100%;margin-bottom: 0;padding: 0.3em;box-sizing: border-box;text-align: center;}#sk-container-id-2 label.sk-toggleable__label-arrow:before {content: \"▸\";float: left;margin-right: 0.25em;color: #696969;}#sk-container-id-2 label.sk-toggleable__label-arrow:hover:before {color: black;}#sk-container-id-2 div.sk-estimator:hover label.sk-toggleable__label-arrow:before {color: black;}#sk-container-id-2 div.sk-toggleable__content {max-height: 0;max-width: 0;overflow: hidden;text-align: left;background-color: #f0f8ff;}#sk-container-id-2 div.sk-toggleable__content pre {margin: 0.2em;color: black;border-radius: 0.25em;background-color: #f0f8ff;}#sk-container-id-2 input.sk-toggleable__control:checked~div.sk-toggleable__content {max-height: 200px;max-width: 100%;overflow: auto;}#sk-container-id-2 input.sk-toggleable__control:checked~label.sk-toggleable__label-arrow:before {content: \"▾\";}#sk-container-id-2 div.sk-estimator input.sk-toggleable__control:checked~label.sk-toggleable__label {background-color: #d4ebff;}#sk-container-id-2 div.sk-label input.sk-toggleable__control:checked~label.sk-toggleable__label {background-color: #d4ebff;}#sk-container-id-2 input.sk-hidden--visually {border: 0;clip: rect(1px 1px 1px 1px);clip: rect(1px, 1px, 1px, 1px);height: 1px;margin: -1px;overflow: hidden;padding: 0;position: absolute;width: 1px;}#sk-container-id-2 div.sk-estimator {font-family: monospace;background-color: #f0f8ff;border: 1px dotted black;border-radius: 0.25em;box-sizing: border-box;margin-bottom: 0.5em;}#sk-container-id-2 div.sk-estimator:hover {background-color: #d4ebff;}#sk-container-id-2 div.sk-parallel-item::after {content: \"\";width: 100%;border-bottom: 1px solid gray;flex-grow: 1;}#sk-container-id-2 div.sk-label:hover label.sk-toggleable__label {background-color: #d4ebff;}#sk-container-id-2 div.sk-serial::before {content: \"\";position: absolute;border-left: 1px solid gray;box-sizing: border-box;top: 0;bottom: 0;left: 50%;z-index: 0;}#sk-container-id-2 div.sk-serial {display: flex;flex-direction: column;align-items: center;background-color: white;padding-right: 0.2em;padding-left: 0.2em;position: relative;}#sk-container-id-2 div.sk-item {position: relative;z-index: 1;}#sk-container-id-2 div.sk-parallel {display: flex;align-items: stretch;justify-content: center;background-color: white;position: relative;}#sk-container-id-2 div.sk-item::before, #sk-container-id-2 div.sk-parallel-item::before {content: \"\";position: absolute;border-left: 1px solid gray;box-sizing: border-box;top: 0;bottom: 0;left: 50%;z-index: -1;}#sk-container-id-2 div.sk-parallel-item {display: flex;flex-direction: column;z-index: 1;position: relative;background-color: white;}#sk-container-id-2 div.sk-parallel-item:first-child::after {align-self: flex-end;width: 50%;}#sk-container-id-2 div.sk-parallel-item:last-child::after {align-self: flex-start;width: 50%;}#sk-container-id-2 div.sk-parallel-item:only-child::after {width: 0;}#sk-container-id-2 div.sk-dashed-wrapped {border: 1px dashed gray;margin: 0 0.4em 0.5em 0.4em;box-sizing: border-box;padding-bottom: 0.4em;background-color: white;}#sk-container-id-2 div.sk-label label {font-family: monospace;font-weight: bold;display: inline-block;line-height: 1.2em;}#sk-container-id-2 div.sk-label-container {text-align: center;}#sk-container-id-2 div.sk-container {/* jupyter's `normalize.less` sets `[hidden] { display: none; }` but bootstrap.min.css set `[hidden] { display: none !important; }` so we also need the `!important` here to be able to override the default hidden behavior on the sphinx rendered scikit-learn.org. See: https://github.com/scikit-learn/scikit-learn/issues/21755 */display: inline-block !important;position: relative;}#sk-container-id-2 div.sk-text-repr-fallback {display: none;}</style><div id=\"sk-container-id-2\" class=\"sk-top-container\"><div class=\"sk-text-repr-fallback\"><pre>MultinomialNB()</pre><b>In a Jupyter environment, please rerun this cell to show the HTML representation or trust the notebook. <br />On GitHub, the HTML representation is unable to render, please try loading this page with nbviewer.org.</b></div><div class=\"sk-container\" hidden><div class=\"sk-item\"><div class=\"sk-estimator sk-toggleable\"><input class=\"sk-toggleable__control sk-hidden--visually\" id=\"sk-estimator-id-2\" type=\"checkbox\" checked><label for=\"sk-estimator-id-2\" class=\"sk-toggleable__label sk-toggleable__label-arrow\">MultinomialNB</label><div class=\"sk-toggleable__content\"><pre>MultinomialNB()</pre></div></div></div></div></div>"
      ],
      "text/plain": [
       "MultinomialNB()"
      ]
     },
     "execution_count": 72,
     "metadata": {},
     "output_type": "execute_result"
    }
   ],
   "source": [
    "from sklearn.naive_bayes import MultinomialNB\n",
    "model = MultinomialNB() # in our case MultinomialNB() is the suitable classifier \n",
    "model.fit(X_train_count,y_train)"
   ]
  },
  {
   "cell_type": "markdown",
   "id": "39fdf716-7bc4-4138-a034-6cf58e39a468",
   "metadata": {},
   "source": [
    "**Making Predictions**"
   ]
  },
  {
   "cell_type": "code",
   "execution_count": 73,
   "id": "28bb18b9-2318-4479-a54b-f39611b2d5b2",
   "metadata": {},
   "outputs": [],
   "source": [
    "def categories_category(category):\n",
    "    if category == 1:\n",
    "        return 'Sports'\n",
    "    elif category == 2:\n",
    "        return 'Politics'\n",
    "    elif category == 3:\n",
    "        return 'Culture'"
   ]
  },
  {
   "cell_type": "code",
   "execution_count": 74,
   "id": "f3bc0d1c-a1c3-4f28-9036-2e2f9d32bfdd",
   "metadata": {},
   "outputs": [],
   "source": [
    "# method to predict the press article category\n",
    "def predect_new_category(article, model_name):\n",
    "    article_count_vctorizer = count_vctorizer.transform(article)\n",
    "    category = categories_category(model_name.predict(article_count_vctorizer)[0])\n",
    "    return category"
   ]
  },
  {
   "cell_type": "code",
   "execution_count": 75,
   "id": "8ba932dc-8f1d-4633-a849-bfe92e768c8f",
   "metadata": {},
   "outputs": [
    {
     "name": "stdout",
     "output_type": "stream",
     "text": [
      "category of first article is: Sports\n",
      "category of second article is: Politics\n"
     ]
    }
   ],
   "source": [
    "# here we test our model with some articles\n",
    "article1 = [\n",
    "    'توج فريق باير ليفركوزن بلقب الدوري الألماني لكرة القدم لأول مرة منذ تأسيسه قبل 120 عاماً، اليوم الأحد، بعد الفوز على ضيفه فيردر بريمن بنتيجة 5-0، ضمن منافسات الجولة الـ29 من المسابقة. وحسم ليفركوزن اللقب التاريخي لصالحه قبل 5 جولات من انتهاء المسابقة، منهيا هيمنة بايرن ميونيخ على البوندسليغا التي امتدت 11 موسما. وفرض البديل فلوريان فيرتس نفسه نجما للقاء بتسجيله ثلاثية \"هاتريك\" (68 و83 و90)، بعدما افتتح النيجيري فيكتور بونيفايس التسجيل (25 من ركلة جزاء)، وأضاف السويسري غرانيت تشاكا الثاني (60). وتقدم ليفركوزن الذي رفع رصيده إلى 79 نقطة في المركز الأول بفارق 16 نقطة عن وصيفيه بايرن ميونخ وشتوتغارت الثالث (63 نقطة لكل منهما) قبل 5 جولات من النهاية، واضعا حدا لهيمنة عملاق بافاريا على اللقب بين عامي 2013 و2023.'\n",
    "]\n",
    "article2 = [\n",
    "    'شكّل الهجوم الإيراني غير المسبوق على إسرائيل باستخدام مئات المسيّرات، والصواريخ، الليلة قبل الماضية ذروة أسبوعين من التوتر بذلت خلالهما واشنطن جهودا كبيرة لمنع تدهور الوضع في المنطقة. وأعلنت القيادة العسكرية الأميركية الوسطى (سنتكوم)، أمس الأحد، أن الولايات المتحدة، وبدعم من مدمرات أوروبية، تمكنت من تدمير \"أكثر من 80″ مسيّرة و6 صواريخ باليستية على الأقل مخصصة لضرب إسرائيل انطلاقا من إيران واليمن خلال الهجوم الإيراني\". ووفقا لمسؤول عسكري أميركي، انطلق من إيران نحو 100 صاروخ باليستي متوسط المدى، وأكثر من 30 صاروخ كروز، وما لا يقل عن 150 مسيّرة هجومية استهدفت إسرائيل، كما أحصى الجيش الإسرائيلي من جهته أكثر من 350 مقذوفا، وقال إن 99% منها دمر. ودمرت سفينتان أميركيتان موجودتان في المنطقة، هما \"يو إس إس أرلي بيرك\" و\"يو إس إس كارني\"، 6 صواريخ، قبل أن تتدخل طائرات، وتدمر بدورها أكثر من 70 مسيّرة إيرانية. وأسقطت بطارية صواريخ باتريوت صاروخ كروز في مكان ليس بعيدا عن مدينة أربيل العراقية في كردستان العراق. ودمّرت القوات الأميركية أيضا \"صاروخا باليستيا على مركبة الإطلاق، كما دمرت 7 مسيّرات على الأرض قبل إطلاقها في مناطق باليمن تسيطر عليها جماعة الحوثيين المدعومة من إيران\"، وفق سنتكوم.'\n",
    "]\n",
    "print(f'category of first article is: {predect_new_category(article1, model)}')\n",
    "print(f'category of second article is: {predect_new_category(article2, model)}')"
   ]
  },
  {
   "cell_type": "code",
   "execution_count": 76,
   "id": "428c9a76-c9a2-4563-987a-ec88e1ca03a3",
   "metadata": {},
   "outputs": [],
   "source": [
    "# save our dataframe in a csv file in case if we need to work with it in future\n",
    "df.to_csv('enhanced_articles.csv', index=False)"
   ]
  },
  {
   "cell_type": "markdown",
   "id": "af5cd753-9864-426f-8787-3cb411fe7ed1",
   "metadata": {},
   "source": [
    "**Evaluating Performance**"
   ]
  },
  {
   "cell_type": "code",
   "execution_count": 26,
   "id": "cb46f533-8e62-4df8-82a7-4d3b4c0f570c",
   "metadata": {},
   "outputs": [
    {
     "data": {
      "text/plain": [
       "6117     اكد المدافع الفنزويلي أوزوالدو فيزكاروندو منتخ...\n",
       "7075     لغة جديدة تعهدها ساحة الدبلوماسية الفلسطينية و...\n",
       "15993    تعن كلمة ترجمة الإيضاح والتفسير لكل جم وأستغرب...\n",
       "15052    يقم 40 طالبا وطالبة كلية الفنون الجميلة والتصم...\n",
       "16765    فتح الشيخ محمد بن نهيان بن مبارك آل نهيان امس ...\n",
       "Name: article, dtype: object"
      ]
     },
     "execution_count": 26,
     "metadata": {},
     "output_type": "execute_result"
    }
   ],
   "source": [
    "X_test[:5]"
   ]
  },
  {
   "cell_type": "code",
   "execution_count": 78,
   "id": "73f2c698-0f1a-4aba-8bbe-540c0935e031",
   "metadata": {},
   "outputs": [
    {
     "name": "stdout",
     "output_type": "stream",
     "text": [
      "accuracy: 0.9905641025641025\n"
     ]
    }
   ],
   "source": [
    "from sklearn.metrics import accuracy_score\n",
    "X_test_counts = count_vctorizer.transform(X_test)\n",
    "pred = model.predict(X_test_counts)\n",
    "\n",
    "acc = accuracy_score(y_test, pred)\n",
    "print(\"accuracy:\", acc) # accuracy ostoriya ^_^"
   ]
  },
  {
   "cell_type": "markdown",
   "id": "1e026402-0c7c-4d25-94ba-673d43eb9f57",
   "metadata": {},
   "source": [
    "**save and load the model**"
   ]
  },
  {
   "cell_type": "code",
   "execution_count": 51,
   "id": "b0c220b9-b9cd-46fc-b02c-ab2c02f4dc2f",
   "metadata": {},
   "outputs": [],
   "source": [
    "import joblib"
   ]
  },
  {
   "cell_type": "code",
   "execution_count": 43,
   "id": "13c76b85-2688-4638-ae9d-ed246e0f7855",
   "metadata": {},
   "outputs": [
    {
     "data": {
      "text/plain": [
       "['press_articles_classifier']"
      ]
     },
     "execution_count": 43,
     "metadata": {},
     "output_type": "execute_result"
    }
   ],
   "source": [
    "joblib.dump(model,'press_articles_classifier')"
   ]
  },
  {
   "cell_type": "code",
   "execution_count": 52,
   "id": "d199b84e-f18b-4d9a-9090-2bdf5dfea6f9",
   "metadata": {},
   "outputs": [],
   "source": [
    "my_model= joblib.load('press_articles_classifier')"
   ]
  },
  {
   "cell_type": "code",
   "execution_count": 63,
   "id": "90546290-fbe8-469c-b71d-3aa16df89085",
   "metadata": {},
   "outputs": [
    {
     "data": {
      "text/plain": [
       "'Culture'"
      ]
     },
     "execution_count": 63,
     "metadata": {},
     "output_type": "execute_result"
    }
   ],
   "source": [
    "article3 = [\n",
    "    'اختارت جامعة الجزائر \"2\" بالتنسيق مع التنظيمات الطلابية الناشطة في الجامعة، الاحتفال بيوم العلم بتحضير برنامج ثري جمع بين الأنشطة العلمية، ممثلة في عدد من المحاضرات التي تمحورت في مضمونها حول تمجيد يوم العلم المصادف لـ16 أفريل، وكذا أنشطة ثقافية ممثلة في أبيات شعرية وأخرى فنية رياضية تفاعل معها الطلبة الذين توافدوا على قاعة المحاضرات الكبرى للمشاركة في الاحتفالية. بدأت الاحتفالية بكلمة ترحيبية لرئيس الجامعة عبد الحميد خميسي، الذي تطرق من خلالها إلى أهمية العلم في بناء الأمم، وكيف يمكن له أن يكون سلاح ذو حديين فقد يكون وسيلة لإنقاذ البشرية وتحديدا في مجال معالجة الأمراض الخطيرة، كما يمكن له أن يتحول إلى وسيلة لتحطيم الإنسان وتدمير الشعوب، ودعا في الإطار الطلبة إلى الاهتمام بتعلم مختلف العلوم والانفتاح على العالم الخارجي.'\n",
    "]\n",
    "predect_new_category(article3, my_model)"
   ]
  }
 ],
 "metadata": {
  "kernelspec": {
   "display_name": "Python 3 (ipykernel)",
   "language": "python",
   "name": "python3"
  },
  "language_info": {
   "codemirror_mode": {
    "name": "ipython",
    "version": 3
   },
   "file_extension": ".py",
   "mimetype": "text/x-python",
   "name": "python",
   "nbconvert_exporter": "python",
   "pygments_lexer": "ipython3",
   "version": "3.11.7"
  }
 },
 "nbformat": 4,
 "nbformat_minor": 5
}
