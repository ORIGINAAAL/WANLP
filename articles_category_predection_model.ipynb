{
 "cells": [
  {
   "cell_type": "markdown",
   "id": "c850b504-83b0-4e57-bac0-bc3928352cb4",
   "metadata": {},
   "source": [
    "# **import necessary libraries**"
   ]
  },
  {
   "cell_type": "code",
   "execution_count": 2,
   "id": "3c98d31f-402b-4ac8-93b4-f65b92d6a4c0",
   "metadata": {},
   "outputs": [],
   "source": [
    "import json\n",
    "import os\n",
    "import csv\n",
    "\n",
    "import nltk\n",
    "import pandas as  pd\n",
    "import numpy as np\n",
    "import spacy\n",
    "\n",
    "import seaborn as sns\n",
    "import string\n",
    "\n",
    "from tqdm import tqdm\n",
    "from textblob import TextBlob\n",
    "\n",
    "from nltk.corpus import stopwords\n",
    "import nltk\n",
    "from nltk.stem import WordNetLemmatizer\n",
    "from nltk import word_tokenize\n",
    "from nltk.stem.isri import ISRIStemmer\n",
    "from nltk.tokenize import RegexpTokenizer\n",
    "from nltk.corpus import stopwords\n",
    "from nltk.stem import WordNetLemmatizer\n",
    "from nltk.tag import pos_tag\n",
    "\n",
    "import re\n",
    "\n",
    "\n",
    "from sklearn.model_selection import train_test_split\n",
    "from sklearn.preprocessing import LabelEncoder\n",
    "from sklearn.feature_extraction.text import CountVectorizer\n",
    "from sklearn.feature_extraction.text import TfidfTransformer\n",
    "from sklearn.naive_bayes import MultinomialNB\n",
    "from sklearn.pipeline import Pipeline\n",
    "\n",
    "\n",
    "from sklearn.preprocessing import FunctionTransformer\n",
    "from sklearn.base import BaseEstimator, TransformerMixin\n",
    "from sklearn.pipeline import FeatureUnion\n",
    "from sklearn.feature_extraction import DictVectorizer\n",
    "\n",
    "from sklearn.metrics import classification_report, confusion_matrix\n"
   ]
  },
  {
   "cell_type": "markdown",
   "id": "330d620d-4669-48c8-bddd-f7e5b45ff5de",
   "metadata": {},
   "source": [
    "# **Dataset exploration**"
   ]
  },
  {
   "cell_type": "code",
   "execution_count": 3,
   "id": "5804c1ab-6c65-4a94-adeb-ce6fb6b13550",
   "metadata": {},
   "outputs": [
    {
     "data": {
      "text/plain": [
       "<Axes: xlabel='category'>"
      ]
     },
     "execution_count": 3,
     "metadata": {},
     "output_type": "execute_result"
    },
    {
     "data": {
      "image/png": "[encoded data removed]",
      "text/plain": [
       "<Figure size 400x300 with 1 Axes>"
      ]
     },
     "metadata": {},
     "output_type": "display_data"
    }
   ],
   "source": [
    "df = pd.read_csv('articles.csv')\n",
    "df['category'].value_counts().plot( kind='bar', figsize=(4,3))"
   ]
  },
  {
   "cell_type": "code",
   "execution_count": 4,
   "id": "ba82e4c6-6293-4d3c-b3db-5b0ee6344f02",
   "metadata": {},
   "outputs": [
    {
     "data": {
      "text/html": [
       "<div>\n",
       "<style scoped>\n",
       "    .dataframe tbody tr th:only-of-type {\n",
       "        vertical-align: middle;\n",
       "    }\n",
       "\n",
       "    .dataframe tbody tr th {\n",
       "        vertical-align: top;\n",
       "    }\n",
       "\n",
       "    .dataframe thead tr th {\n",
       "        text-align: left;\n",
       "    }\n",
       "\n",
       "    .dataframe thead tr:last-of-type th {\n",
       "        text-align: right;\n",
       "    }\n",
       "</style>\n",
       "<table border=\"1\" class=\"dataframe\">\n",
       "  <thead>\n",
       "    <tr>\n",
       "      <th></th>\n",
       "      <th colspan=\"4\" halign=\"left\">article</th>\n",
       "    </tr>\n",
       "    <tr>\n",
       "      <th></th>\n",
       "      <th>count</th>\n",
       "      <th>unique</th>\n",
       "      <th>top</th>\n",
       "      <th>freq</th>\n",
       "    </tr>\n",
       "    <tr>\n",
       "      <th>category</th>\n",
       "      <th></th>\n",
       "      <th></th>\n",
       "      <th></th>\n",
       "      <th></th>\n",
       "    </tr>\n",
       "  </thead>\n",
       "  <tbody>\n",
       "    <tr>\n",
       "      <th>Cars</th>\n",
       "      <td>3864</td>\n",
       "      <td>3864</td>\n",
       "      <td>فولكسفاغن تقلص شبكة موزعيها وتتوجه إلى التسويق...</td>\n",
       "      <td>1</td>\n",
       "    </tr>\n",
       "    <tr>\n",
       "      <th>Culture</th>\n",
       "      <td>6500</td>\n",
       "      <td>6495</td>\n",
       "      <td>يتمتع الفنان التشكيلي المغربي أحمد جاريد بمرجع...</td>\n",
       "      <td>2</td>\n",
       "    </tr>\n",
       "    <tr>\n",
       "      <th>Economy</th>\n",
       "      <td>10961</td>\n",
       "      <td>10961</td>\n",
       "      <td>2.98 تريليون دولار أصول الصناديق السيادية العر...</td>\n",
       "      <td>1</td>\n",
       "    </tr>\n",
       "    <tr>\n",
       "      <th>Finance</th>\n",
       "      <td>6500</td>\n",
       "      <td>6499</td>\n",
       "      <td>شهدت ملكيات كبار الملاك للشركات المدرجة في سوق...</td>\n",
       "      <td>2</td>\n",
       "    </tr>\n",
       "    <tr>\n",
       "      <th>Health</th>\n",
       "      <td>9613</td>\n",
       "      <td>9613</td>\n",
       "      <td>اختبار جديد لتشخيص سرطان البروستاتا في المنزل ...</td>\n",
       "      <td>1</td>\n",
       "    </tr>\n",
       "    <tr>\n",
       "      <th>Medical</th>\n",
       "      <td>6500</td>\n",
       "      <td>6500</td>\n",
       "      <td>ناقشت العيادة الذكية لهيئة الصحة بدبي أمس التط...</td>\n",
       "      <td>1</td>\n",
       "    </tr>\n",
       "    <tr>\n",
       "      <th>Politics</th>\n",
       "      <td>6500</td>\n",
       "      <td>6499</td>\n",
       "      <td>نشرت مجموعة قراصنة الإنترنت أنونيموس الليلة قب...</td>\n",
       "      <td>2</td>\n",
       "    </tr>\n",
       "    <tr>\n",
       "      <th>Religion</th>\n",
       "      <td>6500</td>\n",
       "      <td>6493</td>\n",
       "      <td>إعداد: محمد صالح القرق دخل على رسول الله- صلى ...</td>\n",
       "      <td>3</td>\n",
       "    </tr>\n",
       "    <tr>\n",
       "      <th>Sports</th>\n",
       "      <td>6500</td>\n",
       "      <td>6499</td>\n",
       "      <td>سيفتقد منتخب البيرو في كوبا أمريكا التي تحتضنه...</td>\n",
       "      <td>2</td>\n",
       "    </tr>\n",
       "    <tr>\n",
       "      <th>Tech</th>\n",
       "      <td>7637</td>\n",
       "      <td>7637</td>\n",
       "      <td>للعام الثاني على التوالي، حصلت شركة اس تي اس (...</td>\n",
       "      <td>1</td>\n",
       "    </tr>\n",
       "    <tr>\n",
       "      <th>Tourism</th>\n",
       "      <td>5143</td>\n",
       "      <td>5143</td>\n",
       "      <td>انطلاق معرض \"ديزرت إكس العلا\" قريباً بمشاركة ف...</td>\n",
       "      <td>1</td>\n",
       "    </tr>\n",
       "  </tbody>\n",
       "</table>\n",
       "</div>"
      ],
      "text/plain": [
       "         article                                                            \\\n",
       "           count unique                                                top   \n",
       "category                                                                     \n",
       "Cars        3864   3864  فولكسفاغن تقلص شبكة موزعيها وتتوجه إلى التسويق...   \n",
       "Culture     6500   6495  يتمتع الفنان التشكيلي المغربي أحمد جاريد بمرجع...   \n",
       "Economy    10961  10961  2.98 تريليون دولار أصول الصناديق السيادية العر...   \n",
       "Finance     6500   6499  شهدت ملكيات كبار الملاك للشركات المدرجة في سوق...   \n",
       "Health      9613   9613  اختبار جديد لتشخيص سرطان البروستاتا في المنزل ...   \n",
       "Medical     6500   6500  ناقشت العيادة الذكية لهيئة الصحة بدبي أمس التط...   \n",
       "Politics    6500   6499  نشرت مجموعة قراصنة الإنترنت أنونيموس الليلة قب...   \n",
       "Religion    6500   6493  إعداد: محمد صالح القرق دخل على رسول الله- صلى ...   \n",
       "Sports      6500   6499  سيفتقد منتخب البيرو في كوبا أمريكا التي تحتضنه...   \n",
       "Tech        7637   7637  للعام الثاني على التوالي، حصلت شركة اس تي اس (...   \n",
       "Tourism     5143   5143  انطلاق معرض \"ديزرت إكس العلا\" قريباً بمشاركة ف...   \n",
       "\n",
       "               \n",
       "         freq  \n",
       "category       \n",
       "Cars        1  \n",
       "Culture     2  \n",
       "Economy     1  \n",
       "Finance     2  \n",
       "Health      1  \n",
       "Medical     1  \n",
       "Politics    2  \n",
       "Religion    3  \n",
       "Sports      2  \n",
       "Tech        1  \n",
       "Tourism     1  "
      ]
     },
     "execution_count": 4,
     "metadata": {},
     "output_type": "execute_result"
    }
   ],
   "source": [
    "df.groupby('category').describe()"
   ]
  },
  {
   "cell_type": "markdown",
   "id": "73a55bec-0d53-41b1-93c3-556302815153",
   "metadata": {},
   "source": [
    "**Preprocessing**"
   ]
  },
  {
   "cell_type": "code",
   "execution_count": 5,
   "id": "fef32542-3758-49fd-a175-2e17303aecc6",
   "metadata": {},
   "outputs": [],
   "source": [
    "# we use this method to enumerate the categoreis\n",
    "def enumerate_categories(category):\n",
    "    if category =='Sports':\n",
    "        return 1\n",
    "    elif category =='Politics':\n",
    "        return 2\n",
    "    elif category =='Culture':\n",
    "        return 3\n",
    "    elif category =='Finance':\n",
    "        return 4\n",
    "    elif category =='Medical':\n",
    "        return 5\n",
    "    elif category =='Religion':\n",
    "        return 6\n",
    "    elif category =='Tech':\n",
    "        return 7\n",
    "    elif category =='Cars':\n",
    "        return 8\n",
    "    elif category =='Economy':\n",
    "        return 9\n",
    "    elif category =='Health':\n",
    "        return 10\n",
    "    elif category =='Tourism':\n",
    "        return 11"
   ]
  },
  {
   "cell_type": "code",
   "execution_count": 6,
   "id": "9c098dec-8b6f-454d-a308-9fbed40a5561",
   "metadata": {},
   "outputs": [],
   "source": [
    "# creat new feature that contain the category in number\n",
    "df['category_id'] = df['category'].apply(enumerate_categories)"
   ]
  },
  {
   "cell_type": "code",
   "execution_count": 7,
   "id": "47b9a6a7-dc6c-481f-9d6a-767d98e796f9",
   "metadata": {},
   "outputs": [
    {
     "data": {
      "text/html": [
       "<div>\n",
       "<style scoped>\n",
       "    .dataframe tbody tr th:only-of-type {\n",
       "        vertical-align: middle;\n",
       "    }\n",
       "\n",
       "    .dataframe tbody tr th {\n",
       "        vertical-align: top;\n",
       "    }\n",
       "\n",
       "    .dataframe thead th {\n",
       "        text-align: right;\n",
       "    }\n",
       "</style>\n",
       "<table border=\"1\" class=\"dataframe\">\n",
       "  <thead>\n",
       "    <tr style=\"text-align: right;\">\n",
       "      <th></th>\n",
       "      <th>article</th>\n",
       "      <th>category</th>\n",
       "      <th>category_id</th>\n",
       "    </tr>\n",
       "  </thead>\n",
       "  <tbody>\n",
       "    <tr>\n",
       "      <th>0</th>\n",
       "      <td>احتفظ بنفيكا بمركز الصدارة بعد فوزه على مضيفه ...</td>\n",
       "      <td>Sports</td>\n",
       "      <td>1</td>\n",
       "    </tr>\n",
       "    <tr>\n",
       "      <th>1</th>\n",
       "      <td>كشفت تقارير عن موافقة النجم الفرنسي أنطوان غري...</td>\n",
       "      <td>Sports</td>\n",
       "      <td>1</td>\n",
       "    </tr>\n",
       "    <tr>\n",
       "      <th>2</th>\n",
       "      <td>أدلى مدرب فريق برشلونة الاسباني لكرة القدم خوس...</td>\n",
       "      <td>Sports</td>\n",
       "      <td>1</td>\n",
       "    </tr>\n",
       "    <tr>\n",
       "      <th>3</th>\n",
       "      <td>أعلن بلد الوليد صاحب المركز التاسع عشر قبل الأ...</td>\n",
       "      <td>Sports</td>\n",
       "      <td>1</td>\n",
       "    </tr>\n",
       "    <tr>\n",
       "      <th>4</th>\n",
       "      <td>أعلن ريال مدريد الإسباني بطل أوروبا أمس تمديد ...</td>\n",
       "      <td>Sports</td>\n",
       "      <td>1</td>\n",
       "    </tr>\n",
       "    <tr>\n",
       "      <th>...</th>\n",
       "      <td>...</td>\n",
       "      <td>...</td>\n",
       "      <td>...</td>\n",
       "    </tr>\n",
       "    <tr>\n",
       "      <th>76213</th>\n",
       "      <td>السعودية تحتل المركز 62 عالمياً في جذب السياح ...</td>\n",
       "      <td>Tourism</td>\n",
       "      <td>11</td>\n",
       "    </tr>\n",
       "    <tr>\n",
       "      <th>76214</th>\n",
       "      <td>مطار جديد ومشروع سكك حديدية فائقة السرعة في ال...</td>\n",
       "      <td>Tourism</td>\n",
       "      <td>11</td>\n",
       "    </tr>\n",
       "    <tr>\n",
       "      <th>76215</th>\n",
       "      <td>848 مليون دولار عائدات السياحة في اليمن بـ2012...</td>\n",
       "      <td>Tourism</td>\n",
       "      <td>11</td>\n",
       "    </tr>\n",
       "    <tr>\n",
       "      <th>76216</th>\n",
       "      <td>السياحة المصرية تعلق آمالها على روسيا بـ2014 \\...</td>\n",
       "      <td>Tourism</td>\n",
       "      <td>11</td>\n",
       "    </tr>\n",
       "    <tr>\n",
       "      <th>76217</th>\n",
       "      <td>الطيران الأجنبي وترمومتر السوق السعودي \\n\\nما ...</td>\n",
       "      <td>Tourism</td>\n",
       "      <td>11</td>\n",
       "    </tr>\n",
       "  </tbody>\n",
       "</table>\n",
       "<p>76218 rows × 3 columns</p>\n",
       "</div>"
      ],
      "text/plain": [
       "                                                 article category  category_id\n",
       "0      احتفظ بنفيكا بمركز الصدارة بعد فوزه على مضيفه ...   Sports            1\n",
       "1      كشفت تقارير عن موافقة النجم الفرنسي أنطوان غري...   Sports            1\n",
       "2      أدلى مدرب فريق برشلونة الاسباني لكرة القدم خوس...   Sports            1\n",
       "3      أعلن بلد الوليد صاحب المركز التاسع عشر قبل الأ...   Sports            1\n",
       "4      أعلن ريال مدريد الإسباني بطل أوروبا أمس تمديد ...   Sports            1\n",
       "...                                                  ...      ...          ...\n",
       "76213  السعودية تحتل المركز 62 عالمياً في جذب السياح ...  Tourism           11\n",
       "76214  مطار جديد ومشروع سكك حديدية فائقة السرعة في ال...  Tourism           11\n",
       "76215  848 مليون دولار عائدات السياحة في اليمن بـ2012...  Tourism           11\n",
       "76216  السياحة المصرية تعلق آمالها على روسيا بـ2014 \\...  Tourism           11\n",
       "76217  الطيران الأجنبي وترمومتر السوق السعودي \\n\\nما ...  Tourism           11\n",
       "\n",
       "[76218 rows x 3 columns]"
      ]
     },
     "execution_count": 7,
     "metadata": {},
     "output_type": "execute_result"
    }
   ],
   "source": [
    "df"
   ]
  },
  {
   "cell_type": "code",
   "execution_count": null,
   "id": "d10a6b78-b3da-418d-8dcc-8b304e4d8149",
   "metadata": {},
   "outputs": [],
   "source": [
    "import re\n",
    "def remove_extra_spaces(text):\n",
    "    return re.sub(r'\\s+', ' ', text)"
   ]
  },
  {
   "cell_type": "code",
   "execution_count": 8,
   "id": "716ff310-6612-4d02-8b32-cdf14a01f7bb",
   "metadata": {},
   "outputs": [],
   "source": [
    "# start the preprcessing\n",
    "st = ISRIStemmer()\n",
    "\n",
    "def preprocess_article(article):\n",
    "\n",
    "    article = remove_extra_spaces(article)\n",
    "    # hna drna toknization \n",
    "    tokenizer = RegexpTokenizer(r'\\w+')\n",
    "    tokens = tokenizer.tokenize(article)\n",
    "    # hna drna part of speech tagging\n",
    "    pos = pos_tag(tokens)\n",
    "    '''# lemmatization\n",
    "    lemmatizer = WordNetLemmatizer()\n",
    "    lemmatized_tokens = [lemmatizer.lemmatize(token, pos=get_wordnet_pos(pos_tag)) for token, pos_tag in pos]'''\n",
    "    # hna drna stopword removal\n",
    "    ar_sw = set(stopwords.words('arabic'))\n",
    "    filtered_tokens = [token for token in stemming(pos) if token not in ar_sw]\n",
    "    # bind tokens back \n",
    "    enhanced_article = ' '.join(filtered_tokens)\n",
    "    \n",
    "    return enhanced_article\n",
    "\n",
    "def stemming(tags):\n",
    "    stemed_tokens = []\n",
    "    for token,tag in tags:\n",
    "        if tag == 'NNP':\n",
    "            stemed_tokens.append(token)\n",
    "        else:\n",
    "            stem = st.stem(token)\n",
    "            stemed_tokens.append(stem)\n",
    "    return stemed_tokens"
   ]
  },
  {
   "cell_type": "code",
   "execution_count": 9,
   "id": "31ee0739-99c9-4a9a-855d-530b2a8ce6ce",
   "metadata": {},
   "outputs": [
    {
     "data": {
      "text/html": [
       "<div>\n",
       "<style scoped>\n",
       "    .dataframe tbody tr th:only-of-type {\n",
       "        vertical-align: middle;\n",
       "    }\n",
       "\n",
       "    .dataframe tbody tr th {\n",
       "        vertical-align: top;\n",
       "    }\n",
       "\n",
       "    .dataframe thead th {\n",
       "        text-align: right;\n",
       "    }\n",
       "</style>\n",
       "<table border=\"1\" class=\"dataframe\">\n",
       "  <thead>\n",
       "    <tr style=\"text-align: right;\">\n",
       "      <th></th>\n",
       "      <th>article</th>\n",
       "      <th>category</th>\n",
       "      <th>category_id</th>\n",
       "    </tr>\n",
       "  </thead>\n",
       "  <tbody>\n",
       "    <tr>\n",
       "      <th>0</th>\n",
       "      <td>حفظ بنفيكا بمركز الصدارة فوزه مضيفه ناسيونال ا...</td>\n",
       "      <td>Sports</td>\n",
       "      <td>1</td>\n",
       "    </tr>\n",
       "    <tr>\n",
       "      <th>1</th>\n",
       "      <td>كشف تقارير موافقة النجم الفرنسي أنطوان غريزمان...</td>\n",
       "      <td>Sports</td>\n",
       "      <td>1</td>\n",
       "    </tr>\n",
       "    <tr>\n",
       "      <th>2</th>\n",
       "      <td>دلى مدرب فريق برشلونة الاسباني لكرة القدم خوسي...</td>\n",
       "      <td>Sports</td>\n",
       "      <td>1</td>\n",
       "    </tr>\n",
       "  </tbody>\n",
       "</table>\n",
       "</div>"
      ],
      "text/plain": [
       "                                             article category  category_id\n",
       "0  حفظ بنفيكا بمركز الصدارة فوزه مضيفه ناسيونال ا...   Sports            1\n",
       "1  كشف تقارير موافقة النجم الفرنسي أنطوان غريزمان...   Sports            1\n",
       "2  دلى مدرب فريق برشلونة الاسباني لكرة القدم خوسي...   Sports            1"
      ]
     },
     "execution_count": 9,
     "metadata": {},
     "output_type": "execute_result"
    }
   ],
   "source": [
    "# applt the preprocessing to our articles\n",
    "df['article'] = df['article'].apply(preprocess_article)\n",
    "df.head(3)"
   ]
  },
  {
   "cell_type": "markdown",
   "id": "6ae91991-4b8d-4b1d-8995-29c0d066f690",
   "metadata": {},
   "source": [
    "# **Train the model**"
   ]
  },
  {
   "cell_type": "markdown",
   "id": "22dc57b4-1d4e-4282-b3cb-64799f5ee733",
   "metadata": {},
   "source": [
    "**naive bayes**"
   ]
  },
  {
   "cell_type": "code",
   "execution_count": 10,
   "id": "98db796e-2219-4efc-95cb-ade2c09a37a0",
   "metadata": {},
   "outputs": [],
   "source": [
    "# split eour data into test and train\n",
    "X_train, X_test, y_train, y_test = train_test_split(df.article,df.category_id)"
   ]
  },
  {
   "cell_type": "code",
   "execution_count": 11,
   "id": "eea804d0-fed8-4d00-9091-3dfc75cbeb84",
   "metadata": {},
   "outputs": [],
   "source": [
    "from sklearn.feature_extraction.text import CountVectorizer\n",
    "count_vctorizer = CountVectorizer()\n",
    "X_train_count = count_vctorizer.fit_transform(X_train.values)"
   ]
  },
  {
   "cell_type": "code",
   "execution_count": 43,
   "id": "40fe2fd1-db9e-4cdd-a874-9346a5fa3a22",
   "metadata": {},
   "outputs": [
    {
     "data": {
      "text/html": [
       "<style>#sk-container-id-1 {color: black;background-color: white;}#sk-container-id-1 pre{padding: 0;}#sk-container-id-1 div.sk-toggleable {background-color: white;}#sk-container-id-1 label.sk-toggleable__label {cursor: pointer;display: block;width: 100%;margin-bottom: 0;padding: 0.3em;box-sizing: border-box;text-align: center;}#sk-container-id-1 label.sk-toggleable__label-arrow:before {content: \"▸\";float: left;margin-right: 0.25em;color: #696969;}#sk-container-id-1 label.sk-toggleable__label-arrow:hover:before {color: black;}#sk-container-id-1 div.sk-estimator:hover label.sk-toggleable__label-arrow:before {color: black;}#sk-container-id-1 div.sk-toggleable__content {max-height: 0;max-width: 0;overflow: hidden;text-align: left;background-color: #f0f8ff;}#sk-container-id-1 div.sk-toggleable__content pre {margin: 0.2em;color: black;border-radius: 0.25em;background-color: #f0f8ff;}#sk-container-id-1 input.sk-toggleable__control:checked~div.sk-toggleable__content {max-height: 200px;max-width: 100%;overflow: auto;}#sk-container-id-1 input.sk-toggleable__control:checked~label.sk-toggleable__label-arrow:before {content: \"▾\";}#sk-container-id-1 div.sk-estimator input.sk-toggleable__control:checked~label.sk-toggleable__label {background-color: #d4ebff;}#sk-container-id-1 div.sk-label input.sk-toggleable__control:checked~label.sk-toggleable__label {background-color: #d4ebff;}#sk-container-id-1 input.sk-hidden--visually {border: 0;clip: rect(1px 1px 1px 1px);clip: rect(1px, 1px, 1px, 1px);height: 1px;margin: -1px;overflow: hidden;padding: 0;position: absolute;width: 1px;}#sk-container-id-1 div.sk-estimator {font-family: monospace;background-color: #f0f8ff;border: 1px dotted black;border-radius: 0.25em;box-sizing: border-box;margin-bottom: 0.5em;}#sk-container-id-1 div.sk-estimator:hover {background-color: #d4ebff;}#sk-container-id-1 div.sk-parallel-item::after {content: \"\";width: 100%;border-bottom: 1px solid gray;flex-grow: 1;}#sk-container-id-1 div.sk-label:hover label.sk-toggleable__label {background-color: #d4ebff;}#sk-container-id-1 div.sk-serial::before {content: \"\";position: absolute;border-left: 1px solid gray;box-sizing: border-box;top: 0;bottom: 0;left: 50%;z-index: 0;}#sk-container-id-1 div.sk-serial {display: flex;flex-direction: column;align-items: center;background-color: white;padding-right: 0.2em;padding-left: 0.2em;position: relative;}#sk-container-id-1 div.sk-item {position: relative;z-index: 1;}#sk-container-id-1 div.sk-parallel {display: flex;align-items: stretch;justify-content: center;background-color: white;position: relative;}#sk-container-id-1 div.sk-item::before, #sk-container-id-1 div.sk-parallel-item::before {content: \"\";position: absolute;border-left: 1px solid gray;box-sizing: border-box;top: 0;bottom: 0;left: 50%;z-index: -1;}#sk-container-id-1 div.sk-parallel-item {display: flex;flex-direction: column;z-index: 1;position: relative;background-color: white;}#sk-container-id-1 div.sk-parallel-item:first-child::after {align-self: flex-end;width: 50%;}#sk-container-id-1 div.sk-parallel-item:last-child::after {align-self: flex-start;width: 50%;}#sk-container-id-1 div.sk-parallel-item:only-child::after {width: 0;}#sk-container-id-1 div.sk-dashed-wrapped {border: 1px dashed gray;margin: 0 0.4em 0.5em 0.4em;box-sizing: border-box;padding-bottom: 0.4em;background-color: white;}#sk-container-id-1 div.sk-label label {font-family: monospace;font-weight: bold;display: inline-block;line-height: 1.2em;}#sk-container-id-1 div.sk-label-container {text-align: center;}#sk-container-id-1 div.sk-container {/* jupyter's `normalize.less` sets `[hidden] { display: none; }` but bootstrap.min.css set `[hidden] { display: none !important; }` so we also need the `!important` here to be able to override the default hidden behavior on the sphinx rendered scikit-learn.org. See: https://github.com/scikit-learn/scikit-learn/issues/21755 */display: inline-block !important;position: relative;}#sk-container-id-1 div.sk-text-repr-fallback {display: none;}</style><div id=\"sk-container-id-1\" class=\"sk-top-container\"><div class=\"sk-text-repr-fallback\"><pre>MultinomialNB()</pre><b>In a Jupyter environment, please rerun this cell to show the HTML representation or trust the notebook. <br />On GitHub, the HTML representation is unable to render, please try loading this page with nbviewer.org.</b></div><div class=\"sk-container\" hidden><div class=\"sk-item\"><div class=\"sk-estimator sk-toggleable\"><input class=\"sk-toggleable__control sk-hidden--visually\" id=\"sk-estimator-id-1\" type=\"checkbox\" checked><label for=\"sk-estimator-id-1\" class=\"sk-toggleable__label sk-toggleable__label-arrow\">MultinomialNB</label><div class=\"sk-toggleable__content\"><pre>MultinomialNB()</pre></div></div></div></div></div>"
      ],
      "text/plain": [
       "MultinomialNB()"
      ]
     },
     "execution_count": 43,
     "metadata": {},
     "output_type": "execute_result"
    }
   ],
   "source": [
    "from sklearn.naive_bayes import MultinomialNB\n",
    "nb_model = MultinomialNB() # in our case MultinomialNB() is the suitable classifier \n",
    "nb_model.fit(X_train_count,y_train)"
   ]
  },
  {
   "cell_type": "markdown",
   "id": "f68a2717-b4e4-4878-ab3a-fb7ac699afdb",
   "metadata": {},
   "source": [
    "**SVM**"
   ]
  },
  {
   "cell_type": "code",
   "execution_count": 49,
   "id": "46304be9-963f-48f0-909e-4e3113308e8b",
   "metadata": {},
   "outputs": [],
   "source": [
    "from sklearn.svm import SVC\n",
    "svm_model= SVC()"
   ]
  },
  {
   "cell_type": "code",
   "execution_count": 50,
   "id": "d77a8eb7-8833-451b-9cd0-4cbedbf2d706",
   "metadata": {},
   "outputs": [
    {
     "data": {
      "text/html": [
       "<style>#sk-container-id-3 {color: black;background-color: white;}#sk-container-id-3 pre{padding: 0;}#sk-container-id-3 div.sk-toggleable {background-color: white;}#sk-container-id-3 label.sk-toggleable__label {cursor: pointer;display: block;width: 100%;margin-bottom: 0;padding: 0.3em;box-sizing: border-box;text-align: center;}#sk-container-id-3 label.sk-toggleable__label-arrow:before {content: \"▸\";float: left;margin-right: 0.25em;color: #696969;}#sk-container-id-3 label.sk-toggleable__label-arrow:hover:before {color: black;}#sk-container-id-3 div.sk-estimator:hover label.sk-toggleable__label-arrow:before {color: black;}#sk-container-id-3 div.sk-toggleable__content {max-height: 0;max-width: 0;overflow: hidden;text-align: left;background-color: #f0f8ff;}#sk-container-id-3 div.sk-toggleable__content pre {margin: 0.2em;color: black;border-radius: 0.25em;background-color: #f0f8ff;}#sk-container-id-3 input.sk-toggleable__control:checked~div.sk-toggleable__content {max-height: 200px;max-width: 100%;overflow: auto;}#sk-container-id-3 input.sk-toggleable__control:checked~label.sk-toggleable__label-arrow:before {content: \"▾\";}#sk-container-id-3 div.sk-estimator input.sk-toggleable__control:checked~label.sk-toggleable__label {background-color: #d4ebff;}#sk-container-id-3 div.sk-label input.sk-toggleable__control:checked~label.sk-toggleable__label {background-color: #d4ebff;}#sk-container-id-3 input.sk-hidden--visually {border: 0;clip: rect(1px 1px 1px 1px);clip: rect(1px, 1px, 1px, 1px);height: 1px;margin: -1px;overflow: hidden;padding: 0;position: absolute;width: 1px;}#sk-container-id-3 div.sk-estimator {font-family: monospace;background-color: #f0f8ff;border: 1px dotted black;border-radius: 0.25em;box-sizing: border-box;margin-bottom: 0.5em;}#sk-container-id-3 div.sk-estimator:hover {background-color: #d4ebff;}#sk-container-id-3 div.sk-parallel-item::after {content: \"\";width: 100%;border-bottom: 1px solid gray;flex-grow: 1;}#sk-container-id-3 div.sk-label:hover label.sk-toggleable__label {background-color: #d4ebff;}#sk-container-id-3 div.sk-serial::before {content: \"\";position: absolute;border-left: 1px solid gray;box-sizing: border-box;top: 0;bottom: 0;left: 50%;z-index: 0;}#sk-container-id-3 div.sk-serial {display: flex;flex-direction: column;align-items: center;background-color: white;padding-right: 0.2em;padding-left: 0.2em;position: relative;}#sk-container-id-3 div.sk-item {position: relative;z-index: 1;}#sk-container-id-3 div.sk-parallel {display: flex;align-items: stretch;justify-content: center;background-color: white;position: relative;}#sk-container-id-3 div.sk-item::before, #sk-container-id-3 div.sk-parallel-item::before {content: \"\";position: absolute;border-left: 1px solid gray;box-sizing: border-box;top: 0;bottom: 0;left: 50%;z-index: -1;}#sk-container-id-3 div.sk-parallel-item {display: flex;flex-direction: column;z-index: 1;position: relative;background-color: white;}#sk-container-id-3 div.sk-parallel-item:first-child::after {align-self: flex-end;width: 50%;}#sk-container-id-3 div.sk-parallel-item:last-child::after {align-self: flex-start;width: 50%;}#sk-container-id-3 div.sk-parallel-item:only-child::after {width: 0;}#sk-container-id-3 div.sk-dashed-wrapped {border: 1px dashed gray;margin: 0 0.4em 0.5em 0.4em;box-sizing: border-box;padding-bottom: 0.4em;background-color: white;}#sk-container-id-3 div.sk-label label {font-family: monospace;font-weight: bold;display: inline-block;line-height: 1.2em;}#sk-container-id-3 div.sk-label-container {text-align: center;}#sk-container-id-3 div.sk-container {/* jupyter's `normalize.less` sets `[hidden] { display: none; }` but bootstrap.min.css set `[hidden] { display: none !important; }` so we also need the `!important` here to be able to override the default hidden behavior on the sphinx rendered scikit-learn.org. See: https://github.com/scikit-learn/scikit-learn/issues/21755 */display: inline-block !important;position: relative;}#sk-container-id-3 div.sk-text-repr-fallback {display: none;}</style><div id=\"sk-container-id-3\" class=\"sk-top-container\"><div class=\"sk-text-repr-fallback\"><pre>SVC()</pre><b>In a Jupyter environment, please rerun this cell to show the HTML representation or trust the notebook. <br />On GitHub, the HTML representation is unable to render, please try loading this page with nbviewer.org.</b></div><div class=\"sk-container\" hidden><div class=\"sk-item\"><div class=\"sk-estimator sk-toggleable\"><input class=\"sk-toggleable__control sk-hidden--visually\" id=\"sk-estimator-id-3\" type=\"checkbox\" checked><label for=\"sk-estimator-id-3\" class=\"sk-toggleable__label sk-toggleable__label-arrow\">SVC</label><div class=\"sk-toggleable__content\"><pre>SVC()</pre></div></div></div></div></div>"
      ],
      "text/plain": [
       "SVC()"
      ]
     },
     "execution_count": 50,
     "metadata": {},
     "output_type": "execute_result"
    }
   ],
   "source": [
    "svm_model.fit(X_train_count,y_train)"
   ]
  },
  {
   "cell_type": "markdown",
   "id": "855bf305-017a-4aae-a878-54c4dd2aa681",
   "metadata": {},
   "source": [
    "**Decision Tree**"
   ]
  },
  {
   "cell_type": "code",
   "execution_count": 54,
   "id": "26b64273-50fa-43fa-a157-34772371a825",
   "metadata": {},
   "outputs": [],
   "source": [
    "from sklearn import tree\n",
    "dt_model = tree.DecisionTreeClassifier()"
   ]
  },
  {
   "cell_type": "code",
   "execution_count": 18,
   "id": "3a9aa06d-49d3-44e0-8fe4-387bdc2578f0",
   "metadata": {},
   "outputs": [
    {
     "data": {
      "text/html": [
       "<style>#sk-container-id-4 {color: black;background-color: white;}#sk-container-id-4 pre{padding: 0;}#sk-container-id-4 div.sk-toggleable {background-color: white;}#sk-container-id-4 label.sk-toggleable__label {cursor: pointer;display: block;width: 100%;margin-bottom: 0;padding: 0.3em;box-sizing: border-box;text-align: center;}#sk-container-id-4 label.sk-toggleable__label-arrow:before {content: \"▸\";float: left;margin-right: 0.25em;color: #696969;}#sk-container-id-4 label.sk-toggleable__label-arrow:hover:before {color: black;}#sk-container-id-4 div.sk-estimator:hover label.sk-toggleable__label-arrow:before {color: black;}#sk-container-id-4 div.sk-toggleable__content {max-height: 0;max-width: 0;overflow: hidden;text-align: left;background-color: #f0f8ff;}#sk-container-id-4 div.sk-toggleable__content pre {margin: 0.2em;color: black;border-radius: 0.25em;background-color: #f0f8ff;}#sk-container-id-4 input.sk-toggleable__control:checked~div.sk-toggleable__content {max-height: 200px;max-width: 100%;overflow: auto;}#sk-container-id-4 input.sk-toggleable__control:checked~label.sk-toggleable__label-arrow:before {content: \"▾\";}#sk-container-id-4 div.sk-estimator input.sk-toggleable__control:checked~label.sk-toggleable__label {background-color: #d4ebff;}#sk-container-id-4 div.sk-label input.sk-toggleable__control:checked~label.sk-toggleable__label {background-color: #d4ebff;}#sk-container-id-4 input.sk-hidden--visually {border: 0;clip: rect(1px 1px 1px 1px);clip: rect(1px, 1px, 1px, 1px);height: 1px;margin: -1px;overflow: hidden;padding: 0;position: absolute;width: 1px;}#sk-container-id-4 div.sk-estimator {font-family: monospace;background-color: #f0f8ff;border: 1px dotted black;border-radius: 0.25em;box-sizing: border-box;margin-bottom: 0.5em;}#sk-container-id-4 div.sk-estimator:hover {background-color: #d4ebff;}#sk-container-id-4 div.sk-parallel-item::after {content: \"\";width: 100%;border-bottom: 1px solid gray;flex-grow: 1;}#sk-container-id-4 div.sk-label:hover label.sk-toggleable__label {background-color: #d4ebff;}#sk-container-id-4 div.sk-serial::before {content: \"\";position: absolute;border-left: 1px solid gray;box-sizing: border-box;top: 0;bottom: 0;left: 50%;z-index: 0;}#sk-container-id-4 div.sk-serial {display: flex;flex-direction: column;align-items: center;background-color: white;padding-right: 0.2em;padding-left: 0.2em;position: relative;}#sk-container-id-4 div.sk-item {position: relative;z-index: 1;}#sk-container-id-4 div.sk-parallel {display: flex;align-items: stretch;justify-content: center;background-color: white;position: relative;}#sk-container-id-4 div.sk-item::before, #sk-container-id-4 div.sk-parallel-item::before {content: \"\";position: absolute;border-left: 1px solid gray;box-sizing: border-box;top: 0;bottom: 0;left: 50%;z-index: -1;}#sk-container-id-4 div.sk-parallel-item {display: flex;flex-direction: column;z-index: 1;position: relative;background-color: white;}#sk-container-id-4 div.sk-parallel-item:first-child::after {align-self: flex-end;width: 50%;}#sk-container-id-4 div.sk-parallel-item:last-child::after {align-self: flex-start;width: 50%;}#sk-container-id-4 div.sk-parallel-item:only-child::after {width: 0;}#sk-container-id-4 div.sk-dashed-wrapped {border: 1px dashed gray;margin: 0 0.4em 0.5em 0.4em;box-sizing: border-box;padding-bottom: 0.4em;background-color: white;}#sk-container-id-4 div.sk-label label {font-family: monospace;font-weight: bold;display: inline-block;line-height: 1.2em;}#sk-container-id-4 div.sk-label-container {text-align: center;}#sk-container-id-4 div.sk-container {/* jupyter's `normalize.less` sets `[hidden] { display: none; }` but bootstrap.min.css set `[hidden] { display: none !important; }` so we also need the `!important` here to be able to override the default hidden behavior on the sphinx rendered scikit-learn.org. See: https://github.com/scikit-learn/scikit-learn/issues/21755 */display: inline-block !important;position: relative;}#sk-container-id-4 div.sk-text-repr-fallback {display: none;}</style><div id=\"sk-container-id-4\" class=\"sk-top-container\"><div class=\"sk-text-repr-fallback\"><pre>DecisionTreeClassifier()</pre><b>In a Jupyter environment, please rerun this cell to show the HTML representation or trust the notebook. <br />On GitHub, the HTML representation is unable to render, please try loading this page with nbviewer.org.</b></div><div class=\"sk-container\" hidden><div class=\"sk-item\"><div class=\"sk-estimator sk-toggleable\"><input class=\"sk-toggleable__control sk-hidden--visually\" id=\"sk-estimator-id-4\" type=\"checkbox\" checked><label for=\"sk-estimator-id-4\" class=\"sk-toggleable__label sk-toggleable__label-arrow\">DecisionTreeClassifier</label><div class=\"sk-toggleable__content\"><pre>DecisionTreeClassifier()</pre></div></div></div></div></div>"
      ],
      "text/plain": [
       "DecisionTreeClassifier()"
      ]
     },
     "execution_count": 18,
     "metadata": {},
     "output_type": "execute_result"
    }
   ],
   "source": [
    "dt_model.fit(X_train_count,y_train)"
   ]
  },
  {
   "cell_type": "markdown",
   "id": "8dafd7d8-c20f-4808-ad00-41d49a5f55d1",
   "metadata": {},
   "source": [
    "**Logistic Regression**"
   ]
  },
  {
   "cell_type": "code",
   "execution_count": 12,
   "id": "ec929c17-ae63-40c8-95ae-6ced6b390d33",
   "metadata": {},
   "outputs": [
    {
     "name": "stderr",
     "output_type": "stream",
     "text": [
      "C:\\ProgramData\\anaconda3\\Lib\\site-packages\\sklearn\\linear_model\\_logistic.py:458: ConvergenceWarning: lbfgs failed to converge (status=1):\n",
      "STOP: TOTAL NO. of ITERATIONS REACHED LIMIT.\n",
      "\n",
      "Increase the number of iterations (max_iter) or scale the data as shown in:\n",
      "    https://scikit-learn.org/stable/modules/preprocessing.html\n",
      "Please also refer to the documentation for alternative solver options:\n",
      "    https://scikit-learn.org/stable/modules/linear_model.html#logistic-regression\n",
      "  n_iter_i = _check_optimize_result(\n"
     ]
    },
    {
     "data": {
      "text/html": [
       "<style>#sk-container-id-1 {color: black;background-color: white;}#sk-container-id-1 pre{padding: 0;}#sk-container-id-1 div.sk-toggleable {background-color: white;}#sk-container-id-1 label.sk-toggleable__label {cursor: pointer;display: block;width: 100%;margin-bottom: 0;padding: 0.3em;box-sizing: border-box;text-align: center;}#sk-container-id-1 label.sk-toggleable__label-arrow:before {content: \"▸\";float: left;margin-right: 0.25em;color: #696969;}#sk-container-id-1 label.sk-toggleable__label-arrow:hover:before {color: black;}#sk-container-id-1 div.sk-estimator:hover label.sk-toggleable__label-arrow:before {color: black;}#sk-container-id-1 div.sk-toggleable__content {max-height: 0;max-width: 0;overflow: hidden;text-align: left;background-color: #f0f8ff;}#sk-container-id-1 div.sk-toggleable__content pre {margin: 0.2em;color: black;border-radius: 0.25em;background-color: #f0f8ff;}#sk-container-id-1 input.sk-toggleable__control:checked~div.sk-toggleable__content {max-height: 200px;max-width: 100%;overflow: auto;}#sk-container-id-1 input.sk-toggleable__control:checked~label.sk-toggleable__label-arrow:before {content: \"▾\";}#sk-container-id-1 div.sk-estimator input.sk-toggleable__control:checked~label.sk-toggleable__label {background-color: #d4ebff;}#sk-container-id-1 div.sk-label input.sk-toggleable__control:checked~label.sk-toggleable__label {background-color: #d4ebff;}#sk-container-id-1 input.sk-hidden--visually {border: 0;clip: rect(1px 1px 1px 1px);clip: rect(1px, 1px, 1px, 1px);height: 1px;margin: -1px;overflow: hidden;padding: 0;position: absolute;width: 1px;}#sk-container-id-1 div.sk-estimator {font-family: monospace;background-color: #f0f8ff;border: 1px dotted black;border-radius: 0.25em;box-sizing: border-box;margin-bottom: 0.5em;}#sk-container-id-1 div.sk-estimator:hover {background-color: #d4ebff;}#sk-container-id-1 div.sk-parallel-item::after {content: \"\";width: 100%;border-bottom: 1px solid gray;flex-grow: 1;}#sk-container-id-1 div.sk-label:hover label.sk-toggleable__label {background-color: #d4ebff;}#sk-container-id-1 div.sk-serial::before {content: \"\";position: absolute;border-left: 1px solid gray;box-sizing: border-box;top: 0;bottom: 0;left: 50%;z-index: 0;}#sk-container-id-1 div.sk-serial {display: flex;flex-direction: column;align-items: center;background-color: white;padding-right: 0.2em;padding-left: 0.2em;position: relative;}#sk-container-id-1 div.sk-item {position: relative;z-index: 1;}#sk-container-id-1 div.sk-parallel {display: flex;align-items: stretch;justify-content: center;background-color: white;position: relative;}#sk-container-id-1 div.sk-item::before, #sk-container-id-1 div.sk-parallel-item::before {content: \"\";position: absolute;border-left: 1px solid gray;box-sizing: border-box;top: 0;bottom: 0;left: 50%;z-index: -1;}#sk-container-id-1 div.sk-parallel-item {display: flex;flex-direction: column;z-index: 1;position: relative;background-color: white;}#sk-container-id-1 div.sk-parallel-item:first-child::after {align-self: flex-end;width: 50%;}#sk-container-id-1 div.sk-parallel-item:last-child::after {align-self: flex-start;width: 50%;}#sk-container-id-1 div.sk-parallel-item:only-child::after {width: 0;}#sk-container-id-1 div.sk-dashed-wrapped {border: 1px dashed gray;margin: 0 0.4em 0.5em 0.4em;box-sizing: border-box;padding-bottom: 0.4em;background-color: white;}#sk-container-id-1 div.sk-label label {font-family: monospace;font-weight: bold;display: inline-block;line-height: 1.2em;}#sk-container-id-1 div.sk-label-container {text-align: center;}#sk-container-id-1 div.sk-container {/* jupyter's `normalize.less` sets `[hidden] { display: none; }` but bootstrap.min.css set `[hidden] { display: none !important; }` so we also need the `!important` here to be able to override the default hidden behavior on the sphinx rendered scikit-learn.org. See: https://github.com/scikit-learn/scikit-learn/issues/21755 */display: inline-block !important;position: relative;}#sk-container-id-1 div.sk-text-repr-fallback {display: none;}</style><div id=\"sk-container-id-1\" class=\"sk-top-container\"><div class=\"sk-text-repr-fallback\"><pre>LogisticRegression()</pre><b>In a Jupyter environment, please rerun this cell to show the HTML representation or trust the notebook. <br />On GitHub, the HTML representation is unable to render, please try loading this page with nbviewer.org.</b></div><div class=\"sk-container\" hidden><div class=\"sk-item\"><div class=\"sk-estimator sk-toggleable\"><input class=\"sk-toggleable__control sk-hidden--visually\" id=\"sk-estimator-id-1\" type=\"checkbox\" checked><label for=\"sk-estimator-id-1\" class=\"sk-toggleable__label sk-toggleable__label-arrow\">LogisticRegression</label><div class=\"sk-toggleable__content\"><pre>LogisticRegression()</pre></div></div></div></div></div>"
      ],
      "text/plain": [
       "LogisticRegression()"
      ]
     },
     "execution_count": 12,
     "metadata": {},
     "output_type": "execute_result"
    }
   ],
   "source": [
    "from sklearn.linear_model import LogisticRegression\n",
    "lr_model = LogisticRegression()\n",
    "lr_model.fit(X_train_count,y_train)"
   ]
  },
  {
   "cell_type": "markdown",
   "id": "56ace7e3-45a0-4091-8192-3120142c47a9",
   "metadata": {},
   "source": [
    "**Random forest**"
   ]
  },
  {
   "cell_type": "code",
   "execution_count": 45,
   "id": "a26c5d51-6d0e-4454-8457-5aa4a902fef6",
   "metadata": {},
   "outputs": [],
   "source": [
    "from sklearn.ensemble import RandomForestClassifier\n",
    "rf_model = RandomForestClassifier(n_estimators=20)"
   ]
  },
  {
   "cell_type": "code",
   "execution_count": 46,
   "id": "0b291a61-c797-4850-8259-e79c8e8b98ba",
   "metadata": {},
   "outputs": [
    {
     "data": {
      "text/html": [
       "<style>#sk-container-id-2 {color: black;background-color: white;}#sk-container-id-2 pre{padding: 0;}#sk-container-id-2 div.sk-toggleable {background-color: white;}#sk-container-id-2 label.sk-toggleable__label {cursor: pointer;display: block;width: 100%;margin-bottom: 0;padding: 0.3em;box-sizing: border-box;text-align: center;}#sk-container-id-2 label.sk-toggleable__label-arrow:before {content: \"▸\";float: left;margin-right: 0.25em;color: #696969;}#sk-container-id-2 label.sk-toggleable__label-arrow:hover:before {color: black;}#sk-container-id-2 div.sk-estimator:hover label.sk-toggleable__label-arrow:before {color: black;}#sk-container-id-2 div.sk-toggleable__content {max-height: 0;max-width: 0;overflow: hidden;text-align: left;background-color: #f0f8ff;}#sk-container-id-2 div.sk-toggleable__content pre {margin: 0.2em;color: black;border-radius: 0.25em;background-color: #f0f8ff;}#sk-container-id-2 input.sk-toggleable__control:checked~div.sk-toggleable__content {max-height: 200px;max-width: 100%;overflow: auto;}#sk-container-id-2 input.sk-toggleable__control:checked~label.sk-toggleable__label-arrow:before {content: \"▾\";}#sk-container-id-2 div.sk-estimator input.sk-toggleable__control:checked~label.sk-toggleable__label {background-color: #d4ebff;}#sk-container-id-2 div.sk-label input.sk-toggleable__control:checked~label.sk-toggleable__label {background-color: #d4ebff;}#sk-container-id-2 input.sk-hidden--visually {border: 0;clip: rect(1px 1px 1px 1px);clip: rect(1px, 1px, 1px, 1px);height: 1px;margin: -1px;overflow: hidden;padding: 0;position: absolute;width: 1px;}#sk-container-id-2 div.sk-estimator {font-family: monospace;background-color: #f0f8ff;border: 1px dotted black;border-radius: 0.25em;box-sizing: border-box;margin-bottom: 0.5em;}#sk-container-id-2 div.sk-estimator:hover {background-color: #d4ebff;}#sk-container-id-2 div.sk-parallel-item::after {content: \"\";width: 100%;border-bottom: 1px solid gray;flex-grow: 1;}#sk-container-id-2 div.sk-label:hover label.sk-toggleable__label {background-color: #d4ebff;}#sk-container-id-2 div.sk-serial::before {content: \"\";position: absolute;border-left: 1px solid gray;box-sizing: border-box;top: 0;bottom: 0;left: 50%;z-index: 0;}#sk-container-id-2 div.sk-serial {display: flex;flex-direction: column;align-items: center;background-color: white;padding-right: 0.2em;padding-left: 0.2em;position: relative;}#sk-container-id-2 div.sk-item {position: relative;z-index: 1;}#sk-container-id-2 div.sk-parallel {display: flex;align-items: stretch;justify-content: center;background-color: white;position: relative;}#sk-container-id-2 div.sk-item::before, #sk-container-id-2 div.sk-parallel-item::before {content: \"\";position: absolute;border-left: 1px solid gray;box-sizing: border-box;top: 0;bottom: 0;left: 50%;z-index: -1;}#sk-container-id-2 div.sk-parallel-item {display: flex;flex-direction: column;z-index: 1;position: relative;background-color: white;}#sk-container-id-2 div.sk-parallel-item:first-child::after {align-self: flex-end;width: 50%;}#sk-container-id-2 div.sk-parallel-item:last-child::after {align-self: flex-start;width: 50%;}#sk-container-id-2 div.sk-parallel-item:only-child::after {width: 0;}#sk-container-id-2 div.sk-dashed-wrapped {border: 1px dashed gray;margin: 0 0.4em 0.5em 0.4em;box-sizing: border-box;padding-bottom: 0.4em;background-color: white;}#sk-container-id-2 div.sk-label label {font-family: monospace;font-weight: bold;display: inline-block;line-height: 1.2em;}#sk-container-id-2 div.sk-label-container {text-align: center;}#sk-container-id-2 div.sk-container {/* jupyter's `normalize.less` sets `[hidden] { display: none; }` but bootstrap.min.css set `[hidden] { display: none !important; }` so we also need the `!important` here to be able to override the default hidden behavior on the sphinx rendered scikit-learn.org. See: https://github.com/scikit-learn/scikit-learn/issues/21755 */display: inline-block !important;position: relative;}#sk-container-id-2 div.sk-text-repr-fallback {display: none;}</style><div id=\"sk-container-id-2\" class=\"sk-top-container\"><div class=\"sk-text-repr-fallback\"><pre>RandomForestClassifier(n_estimators=20)</pre><b>In a Jupyter environment, please rerun this cell to show the HTML representation or trust the notebook. <br />On GitHub, the HTML representation is unable to render, please try loading this page with nbviewer.org.</b></div><div class=\"sk-container\" hidden><div class=\"sk-item\"><div class=\"sk-estimator sk-toggleable\"><input class=\"sk-toggleable__control sk-hidden--visually\" id=\"sk-estimator-id-2\" type=\"checkbox\" checked><label for=\"sk-estimator-id-2\" class=\"sk-toggleable__label sk-toggleable__label-arrow\">RandomForestClassifier</label><div class=\"sk-toggleable__content\"><pre>RandomForestClassifier(n_estimators=20)</pre></div></div></div></div></div>"
      ],
      "text/plain": [
       "RandomForestClassifier(n_estimators=20)"
      ]
     },
     "execution_count": 46,
     "metadata": {},
     "output_type": "execute_result"
    }
   ],
   "source": [
    "rf_model.fit(X_train_count,y_train)"
   ]
  },
  {
   "cell_type": "markdown",
   "id": "39fdf716-7bc4-4138-a034-6cf58e39a468",
   "metadata": {},
   "source": [
    "# **Making Predictions**"
   ]
  },
  {
   "cell_type": "code",
   "execution_count": 23,
   "id": "28bb18b9-2318-4479-a54b-f39611b2d5b2",
   "metadata": {},
   "outputs": [],
   "source": [
    "def categories_category(category):\n",
    "    if category == 1:\n",
    "        return 'Sports'\n",
    "    elif category == 2:\n",
    "        return 'Politics'\n",
    "    elif category == 3:\n",
    "        return 'Culture'\n",
    "    elif category == 4:\n",
    "        return 'Finance'\n",
    "    elif category == 5:\n",
    "        return 'Medical'\n",
    "    elif category == 6:\n",
    "        return 'Religion'\n",
    "    elif category == 7:\n",
    "        return 'Tech'\n",
    "    elif category == 8:\n",
    "        return 'Cars'\n",
    "    elif category == 9:\n",
    "        return 'Economy'\n",
    "    elif category == 10:\n",
    "        return 'Health'\n",
    "    elif category == 11:\n",
    "        return 'Tourism'\n"
   ]
  },
  {
   "cell_type": "code",
   "execution_count": 39,
   "id": "f3bc0d1c-a1c3-4f28-9036-2e2f9d32bfdd",
   "metadata": {},
   "outputs": [],
   "source": [
    "# method to predict the press article category\n",
    "def predect_new_category(article, model_name):\n",
    "    article_count_vctorizer = count_vctorizer.transform(article)\n",
    "    category = categories_category(model_name.predict(article_count_vctorizer)[0])\n",
    "    probabilities = model_name.predict_proba(article_count_vctorizer)\n",
    "    sport_p = probabilities[0][0]\n",
    "    politic_p = probabilities[0][1]\n",
    "    return category, sport_p, politic_p"
   ]
  },
  {
   "cell_type": "code",
   "execution_count": 87,
   "id": "8ba932dc-8f1d-4633-a849-bfe92e768c8f",
   "metadata": {},
   "outputs": [
    {
     "name": "stdout",
     "output_type": "stream",
     "text": [
      "category of first article is (lr): ('Sports', 1.0, 9.755811231063653e-108, 4.0988486712507274e-109)\n",
      "category of second article is (lr): ('Politics', 3.422283415124464e-101, 1.0, 1.2607682391030228e-89)\n"
     ]
    }
   ],
   "source": [
    "# here we test our model with some articles\n",
    "article1 = [\n",
    "    'توج فريق باير ليفركوزن بلقب الدوري الألماني لكرة القدم لأول مرة منذ تأسيسه قبل 120 عاماً، اليوم الأحد، بعد الفوز على ضيفه فيردر بريمن بنتيجة 5-0، ضمن منافسات الجولة الـ29 من المسابقة. وحسم ليفركوزن اللقب التاريخي لصالحه قبل 5 جولات من انتهاء المسابقة، منهيا هيمنة بايرن ميونيخ على البوندسليغا التي امتدت 11 موسما. وفرض البديل فلوريان فيرتس نفسه نجما للقاء بتسجيله ثلاثية \"هاتريك\" (68 و83 و90)، بعدما افتتح النيجيري فيكتور بونيفايس التسجيل (25 من ركلة جزاء)، وأضاف السويسري غرانيت تشاكا الثاني (60). وتقدم ليفركوزن الذي رفع رصيده إلى 79 نقطة في المركز الأول بفارق 16 نقطة عن وصيفيه بايرن ميونخ وشتوتغارت الثالث (63 نقطة لكل منهما) قبل 5 جولات من النهاية، واضعا حدا لهيمنة عملاق بافاريا على اللقب بين عامي 2013 و2023.'\n",
    "]\n",
    "article2 = [\n",
    "    'شكّل الهجوم الإيراني غير المسبوق على إسرائيل باستخدام مئات المسيّرات، والصواريخ، الليلة قبل الماضية ذروة أسبوعين من التوتر بذلت خلالهما واشنطن جهودا كبيرة لمنع تدهور الوضع في المنطقة. وأعلنت القيادة العسكرية الأميركية الوسطى (سنتكوم)، أمس الأحد، أن الولايات المتحدة، وبدعم من مدمرات أوروبية، تمكنت من تدمير \"أكثر من 80″ مسيّرة و6 صواريخ باليستية على الأقل مخصصة لضرب إسرائيل انطلاقا من إيران واليمن خلال الهجوم الإيراني\". ووفقا لمسؤول عسكري أميركي، انطلق من إيران نحو 100 صاروخ باليستي متوسط المدى، وأكثر من 30 صاروخ كروز، وما لا يقل عن 150 مسيّرة هجومية استهدفت إسرائيل، كما أحصى الجيش الإسرائيلي من جهته أكثر من 350 مقذوفا، وقال إن 99% منها دمر. ودمرت سفينتان أميركيتان موجودتان في المنطقة، هما \"يو إس إس أرلي بيرك\" و\"يو إس إس كارني\"، 6 صواريخ، قبل أن تتدخل طائرات، وتدمر بدورها أكثر من 70 مسيّرة إيرانية. وأسقطت بطارية صواريخ باتريوت صاروخ كروز في مكان ليس بعيدا عن مدينة أربيل العراقية في كردستان العراق. ودمّرت القوات الأميركية أيضا \"صاروخا باليستيا على مركبة الإطلاق، كما دمرت 7 مسيّرات على الأرض قبل إطلاقها في مناطق باليمن تسيطر عليها جماعة الحوثيين المدعومة من إيران\"، وفق سنتكوم.'\n",
    "]\n",
    "#print(f'category of first article is (nb): {predect_new_category(article1, nb_model)}')\n",
    "#print(f'category of first article is (svm): {predect_new_category(article1, svm_model)}')\n",
    "#print(f'category of first article is (dt): {predect_new_category(article1, dt_model)}')\n",
    "print(f'category of first article is (lr): {predect_new_category(article1, lr_model)}')\n",
    "\n",
    "#print(f'category of second article is (nb): {predect_new_category(article2, nb_model)}')\n",
    "#print(f'category of second article is (svm): {predect_new_category(article2, svm_model)}')\n",
    "#print(f'category of second article is (dt): {predect_new_category(article2, dt_model)}')\n",
    "print(f'category of second article is (lr): {predect_new_category(article2, lr_model)}')"
   ]
  },
  {
   "cell_type": "code",
   "execution_count": 17,
   "id": "428c9a76-c9a2-4563-987a-ec88e1ca03a3",
   "metadata": {},
   "outputs": [],
   "source": [
    "# save our dataframe in a csv file in case if we need to work with it in future\n",
    "df.to_csv('enhanced_articles.csv', index=False)"
   ]
  },
  {
   "cell_type": "markdown",
   "id": "af5cd753-9864-426f-8787-3cb411fe7ed1",
   "metadata": {},
   "source": [
    "# **Evaluating Performance**"
   ]
  },
  {
   "cell_type": "markdown",
   "id": "fab33f13-69c9-4b7d-ba6a-eb648278b14b",
   "metadata": {},
   "source": [
    "**naive bayes model Performance**"
   ]
  },
  {
   "cell_type": "code",
   "execution_count": 44,
   "id": "73f2c698-0f1a-4aba-8bbe-540c0935e031",
   "metadata": {},
   "outputs": [
    {
     "name": "stdout",
     "output_type": "stream",
     "text": [
      "accuracy: 0.9250065599580163\n"
     ]
    }
   ],
   "source": [
    "from sklearn.metrics import accuracy_score\n",
    "X_test_counts = count_vctorizer.transform(X_test)\n",
    "\n",
    "nb_pred = nb_model.predict(X_test_counts)\n",
    "\n",
    "nb_acc = accuracy_score(y_test, nb_pred)\n",
    "print(\"accuracy:\", nb_acc) # accuracy ostoriya ^_^"
   ]
  },
  {
   "cell_type": "markdown",
   "id": "ca521339-7010-4183-abe5-02a401269988",
   "metadata": {},
   "source": [
    "**SVM model Performance**"
   ]
  },
  {
   "cell_type": "code",
   "execution_count": 51,
   "id": "92f5ce26-ffce-473b-8f5c-55611a8e8730",
   "metadata": {},
   "outputs": [
    {
     "name": "stdout",
     "output_type": "stream",
     "text": [
      "accuracy: 0.9321962739438467\n"
     ]
    }
   ],
   "source": [
    "svm_pred = svm_model.predict(X_test_counts)\n",
    "svm_acc = accuracy_score(y_test, svm_pred)\n",
    "print(\"accuracy:\", svm_acc)"
   ]
  },
  {
   "cell_type": "markdown",
   "id": "8a9dd738-5073-4a25-b57a-f0e59e9929cf",
   "metadata": {},
   "source": [
    "**Decision Tree**"
   ]
  },
  {
   "cell_type": "code",
   "execution_count": 34,
   "id": "fcf51842-28d5-4306-a278-9587db44d3e6",
   "metadata": {},
   "outputs": [
    {
     "name": "stdout",
     "output_type": "stream",
     "text": [
      "accuracy: 0.9628717948717949\n"
     ]
    }
   ],
   "source": [
    "dt_pred = dt_model.predict(X_test_counts)\n",
    "dt_acc = accuracy_score(y_test, dt_pred)\n",
    "print(\"accuracy:\", dt_acc)"
   ]
  },
  {
   "cell_type": "markdown",
   "id": "8e943644-35cd-4b64-8d5a-2782ba8d1395",
   "metadata": {},
   "source": [
    "**Logistic Regression**"
   ]
  },
  {
   "cell_type": "code",
   "execution_count": 15,
   "id": "22fe2e9c-2651-49f6-be0b-25bc89c6e062",
   "metadata": {},
   "outputs": [
    {
     "name": "stdout",
     "output_type": "stream",
     "text": [
      "accuracy: 0.9569141957491472\n"
     ]
    }
   ],
   "source": [
    "from sklearn.metrics import accuracy_score\n",
    "X_test_counts = count_vctorizer.transform(X_test)\n",
    "lr_pred = lr_model.predict(X_test_counts)\n",
    "lr_acc = accuracy_score(y_test, lr_pred)\n",
    "print(\"accuracy:\", lr_acc)"
   ]
  },
  {
   "cell_type": "markdown",
   "id": "410bf808-9b7a-4bdc-8259-885036a9c100",
   "metadata": {},
   "source": [
    "**Random Forest**"
   ]
  },
  {
   "cell_type": "code",
   "execution_count": 48,
   "id": "75ee1aab-330f-44fd-9d6f-de58c070f149",
   "metadata": {},
   "outputs": [
    {
     "name": "stdout",
     "output_type": "stream",
     "text": [
      "accuracy: 0.9018105484124902\n"
     ]
    }
   ],
   "source": [
    "rf_pred = rf_model.predict(X_test_counts)\n",
    "rf_acc = accuracy_score(y_test, rf_pred)\n",
    "print(\"accuracy:\", rf_acc)"
   ]
  },
  {
   "cell_type": "code",
   "execution_count": 100,
   "id": "5b018f3f-3073-43d0-be8c-7ed6c9d74669",
   "metadata": {},
   "outputs": [
    {
     "name": "stdout",
     "output_type": "stream",
     "text": [
      "0.9907692307692307\n"
     ]
    }
   ],
   "source": [
    "from sklearn.model_selection import cross_val_score\n",
    "nb_score = max(cross_val_score(nb_model, X_train_count,y_train))\n",
    "print(nb_score)"
   ]
  },
  {
   "cell_type": "markdown",
   "id": "75df64e9-6247-4ba9-b5be-64921e1ed6b5",
   "metadata": {},
   "source": [
    "**Choose the best model**"
   ]
  },
  {
   "cell_type": "code",
   "execution_count": 56,
   "id": "bf0c5d9f-f354-4925-ab45-85ed27706524",
   "metadata": {},
   "outputs": [],
   "source": [
    "from sklearn.linear_model import LogisticRegression\n",
    "\n",
    "model_params = {\n",
    "    'nb': {\n",
    "        'model': MultinomialNB(),\n",
    "        'params' : {\n",
    "        }  \n",
    "    },\n",
    "    'decesion_tree': {\n",
    "        'model': tree.DecisionTreeClassifier(),\n",
    "        'params' : {\n",
    "            \n",
    "        }\n",
    "    },\n",
    "    'logistic_regression' : {\n",
    "        'model': LogisticRegression(solver='liblinear',multi_class='auto'),\n",
    "        'params': {\n",
    "            'C': [1,5,10]\n",
    "        }\n",
    "    },\n",
    "    'random_forest': {\n",
    "        'model': RandomForestClassifier(),\n",
    "        'params' : {\n",
    "            'n_estimators': [1,5,10,20]\n",
    "        }\n",
    "    }\n",
    "}"
   ]
  },
  {
   "cell_type": "code",
   "execution_count": 57,
   "id": "625f3fa2-f6cf-48fc-afa5-98e6c919bb4c",
   "metadata": {},
   "outputs": [
    {
     "data": {
      "text/html": [
       "<div>\n",
       "<style scoped>\n",
       "    .dataframe tbody tr th:only-of-type {\n",
       "        vertical-align: middle;\n",
       "    }\n",
       "\n",
       "    .dataframe tbody tr th {\n",
       "        vertical-align: top;\n",
       "    }\n",
       "\n",
       "    .dataframe thead th {\n",
       "        text-align: right;\n",
       "    }\n",
       "</style>\n",
       "<table border=\"1\" class=\"dataframe\">\n",
       "  <thead>\n",
       "    <tr style=\"text-align: right;\">\n",
       "      <th></th>\n",
       "      <th>model</th>\n",
       "      <th>best_score</th>\n",
       "    </tr>\n",
       "  </thead>\n",
       "  <tbody>\n",
       "    <tr>\n",
       "      <th>0</th>\n",
       "      <td>nb</td>\n",
       "      <td>0.925074</td>\n",
       "    </tr>\n",
       "    <tr>\n",
       "      <th>1</th>\n",
       "      <td>random_forest</td>\n",
       "      <td>0.896874</td>\n",
       "    </tr>\n",
       "    <tr>\n",
       "      <th>2</th>\n",
       "      <td>logistic_regression</td>\n",
       "      <td>0.956598</td>\n",
       "    </tr>\n",
       "  </tbody>\n",
       "</table>\n",
       "</div>"
      ],
      "text/plain": [
       "                 model  best_score\n",
       "0                   nb    0.925074\n",
       "1        random_forest    0.896874\n",
       "2  logistic_regression    0.956598"
      ]
     },
     "execution_count": 57,
     "metadata": {},
     "output_type": "execute_result"
    }
   ],
   "source": [
    "from sklearn.model_selection import GridSearchCV\n",
    "\n",
    "scores = []\n",
    "\n",
    "for model_name, mp in model_params.items():\n",
    "    clf =  GridSearchCV(mp['model'], mp['params'], cv=5, return_train_score=False)\n",
    "    clf.fit(X_train_count, y_train)\n",
    "    scores.append({\n",
    "        'model': model_name,\n",
    "        'best_score': clf.best_score_,\n",
    "        'best_params': clf.best_params_\n",
    "    })\n",
    "    \n",
    "df_best_model = pd.DataFrame(scores,columns=['model','best_score'])\n",
    "df_best_model"
   ]
  },
  {
   "cell_type": "code",
   "execution_count": 61,
   "id": "5f7b6105-6e60-48ea-ac64-dc237454ec87",
   "metadata": {},
   "outputs": [
    {
     "data": {
      "text/html": [
       "<style>#sk-container-id-5 {color: black;background-color: white;}#sk-container-id-5 pre{padding: 0;}#sk-container-id-5 div.sk-toggleable {background-color: white;}#sk-container-id-5 label.sk-toggleable__label {cursor: pointer;display: block;width: 100%;margin-bottom: 0;padding: 0.3em;box-sizing: border-box;text-align: center;}#sk-container-id-5 label.sk-toggleable__label-arrow:before {content: \"▸\";float: left;margin-right: 0.25em;color: #696969;}#sk-container-id-5 label.sk-toggleable__label-arrow:hover:before {color: black;}#sk-container-id-5 div.sk-estimator:hover label.sk-toggleable__label-arrow:before {color: black;}#sk-container-id-5 div.sk-toggleable__content {max-height: 0;max-width: 0;overflow: hidden;text-align: left;background-color: #f0f8ff;}#sk-container-id-5 div.sk-toggleable__content pre {margin: 0.2em;color: black;border-radius: 0.25em;background-color: #f0f8ff;}#sk-container-id-5 input.sk-toggleable__control:checked~div.sk-toggleable__content {max-height: 200px;max-width: 100%;overflow: auto;}#sk-container-id-5 input.sk-toggleable__control:checked~label.sk-toggleable__label-arrow:before {content: \"▾\";}#sk-container-id-5 div.sk-estimator input.sk-toggleable__control:checked~label.sk-toggleable__label {background-color: #d4ebff;}#sk-container-id-5 div.sk-label input.sk-toggleable__control:checked~label.sk-toggleable__label {background-color: #d4ebff;}#sk-container-id-5 input.sk-hidden--visually {border: 0;clip: rect(1px 1px 1px 1px);clip: rect(1px, 1px, 1px, 1px);height: 1px;margin: -1px;overflow: hidden;padding: 0;position: absolute;width: 1px;}#sk-container-id-5 div.sk-estimator {font-family: monospace;background-color: #f0f8ff;border: 1px dotted black;border-radius: 0.25em;box-sizing: border-box;margin-bottom: 0.5em;}#sk-container-id-5 div.sk-estimator:hover {background-color: #d4ebff;}#sk-container-id-5 div.sk-parallel-item::after {content: \"\";width: 100%;border-bottom: 1px solid gray;flex-grow: 1;}#sk-container-id-5 div.sk-label:hover label.sk-toggleable__label {background-color: #d4ebff;}#sk-container-id-5 div.sk-serial::before {content: \"\";position: absolute;border-left: 1px solid gray;box-sizing: border-box;top: 0;bottom: 0;left: 50%;z-index: 0;}#sk-container-id-5 div.sk-serial {display: flex;flex-direction: column;align-items: center;background-color: white;padding-right: 0.2em;padding-left: 0.2em;position: relative;}#sk-container-id-5 div.sk-item {position: relative;z-index: 1;}#sk-container-id-5 div.sk-parallel {display: flex;align-items: stretch;justify-content: center;background-color: white;position: relative;}#sk-container-id-5 div.sk-item::before, #sk-container-id-5 div.sk-parallel-item::before {content: \"\";position: absolute;border-left: 1px solid gray;box-sizing: border-box;top: 0;bottom: 0;left: 50%;z-index: -1;}#sk-container-id-5 div.sk-parallel-item {display: flex;flex-direction: column;z-index: 1;position: relative;background-color: white;}#sk-container-id-5 div.sk-parallel-item:first-child::after {align-self: flex-end;width: 50%;}#sk-container-id-5 div.sk-parallel-item:last-child::after {align-self: flex-start;width: 50%;}#sk-container-id-5 div.sk-parallel-item:only-child::after {width: 0;}#sk-container-id-5 div.sk-dashed-wrapped {border: 1px dashed gray;margin: 0 0.4em 0.5em 0.4em;box-sizing: border-box;padding-bottom: 0.4em;background-color: white;}#sk-container-id-5 div.sk-label label {font-family: monospace;font-weight: bold;display: inline-block;line-height: 1.2em;}#sk-container-id-5 div.sk-label-container {text-align: center;}#sk-container-id-5 div.sk-container {/* jupyter's `normalize.less` sets `[hidden] { display: none; }` but bootstrap.min.css set `[hidden] { display: none !important; }` so we also need the `!important` here to be able to override the default hidden behavior on the sphinx rendered scikit-learn.org. See: https://github.com/scikit-learn/scikit-learn/issues/21755 */display: inline-block !important;position: relative;}#sk-container-id-5 div.sk-text-repr-fallback {display: none;}</style><div id=\"sk-container-id-5\" class=\"sk-top-container\"><div class=\"sk-text-repr-fallback\"><pre>LogisticRegression(C=1, solver=&#x27;liblinear&#x27;)</pre><b>In a Jupyter environment, please rerun this cell to show the HTML representation or trust the notebook. <br />On GitHub, the HTML representation is unable to render, please try loading this page with nbviewer.org.</b></div><div class=\"sk-container\" hidden><div class=\"sk-item\"><div class=\"sk-estimator sk-toggleable\"><input class=\"sk-toggleable__control sk-hidden--visually\" id=\"sk-estimator-id-5\" type=\"checkbox\" checked><label for=\"sk-estimator-id-5\" class=\"sk-toggleable__label sk-toggleable__label-arrow\">LogisticRegression</label><div class=\"sk-toggleable__content\"><pre>LogisticRegression(C=1, solver=&#x27;liblinear&#x27;)</pre></div></div></div></div></div>"
      ],
      "text/plain": [
       "LogisticRegression(C=1, solver='liblinear')"
      ]
     },
     "execution_count": 61,
     "metadata": {},
     "output_type": "execute_result"
    }
   ],
   "source": [
    "best_model = clf.best_estimator_\n",
    "best_model"
   ]
  },
  {
   "cell_type": "code",
   "execution_count": 59,
   "id": "65ed2c13-53bb-4687-862b-0b29c1138af8",
   "metadata": {},
   "outputs": [
    {
     "data": {
      "text/html": [
       "<div>\n",
       "<style scoped>\n",
       "    .dataframe tbody tr th:only-of-type {\n",
       "        vertical-align: middle;\n",
       "    }\n",
       "\n",
       "    .dataframe tbody tr th {\n",
       "        vertical-align: top;\n",
       "    }\n",
       "\n",
       "    .dataframe thead th {\n",
       "        text-align: right;\n",
       "    }\n",
       "</style>\n",
       "<table border=\"1\" class=\"dataframe\">\n",
       "  <thead>\n",
       "    <tr style=\"text-align: right;\">\n",
       "      <th></th>\n",
       "      <th>model</th>\n",
       "      <th>best_score</th>\n",
       "    </tr>\n",
       "  </thead>\n",
       "  <tbody>\n",
       "    <tr>\n",
       "      <th>2</th>\n",
       "      <td>logistic_regression</td>\n",
       "      <td>0.956598</td>\n",
       "    </tr>\n",
       "    <tr>\n",
       "      <th>0</th>\n",
       "      <td>nb</td>\n",
       "      <td>0.925074</td>\n",
       "    </tr>\n",
       "    <tr>\n",
       "      <th>1</th>\n",
       "      <td>random_forest</td>\n",
       "      <td>0.896874</td>\n",
       "    </tr>\n",
       "  </tbody>\n",
       "</table>\n",
       "</div>"
      ],
      "text/plain": [
       "                 model  best_score\n",
       "2  logistic_regression    0.956598\n",
       "0                   nb    0.925074\n",
       "1        random_forest    0.896874"
      ]
     },
     "execution_count": 59,
     "metadata": {},
     "output_type": "execute_result"
    }
   ],
   "source": [
    "df_best_model = pd.DataFrame(scores,columns=['model','best_score']).sort_values(by='best_score', ascending=False)\n",
    "df_best_model"
   ]
  },
  {
   "cell_type": "markdown",
   "id": "1e026402-0c7c-4d25-94ba-673d43eb9f57",
   "metadata": {},
   "source": [
    "**save and load the model**"
   ]
  },
  {
   "cell_type": "code",
   "execution_count": 16,
   "id": "b0c220b9-b9cd-46fc-b02c-ab2c02f4dc2f",
   "metadata": {},
   "outputs": [],
   "source": [
    "import joblib"
   ]
  },
  {
   "cell_type": "code",
   "execution_count": 17,
   "id": "13c76b85-2688-4638-ae9d-ed246e0f7855",
   "metadata": {},
   "outputs": [
    {
     "data": {
      "text/plain": [
       "['new_press_articles_classifier.pkl']"
      ]
     },
     "execution_count": 17,
     "metadata": {},
     "output_type": "execute_result"
    }
   ],
   "source": [
    "joblib.dump(lr_model,'new_press_articles_classifier.pkl')"
   ]
  },
  {
   "cell_type": "code",
   "execution_count": 18,
   "id": "7606477a-d2ee-4b11-8520-29b77c1a3357",
   "metadata": {},
   "outputs": [
    {
     "data": {
      "text/plain": [
       "['count_vctorizer.pkl']"
      ]
     },
     "execution_count": 18,
     "metadata": {},
     "output_type": "execute_result"
    }
   ],
   "source": [
    "joblib.dump(count_vctorizer,'count_vctorizer.pkl')"
   ]
  },
  {
   "cell_type": "code",
   "execution_count": 20,
   "id": "d199b84e-f18b-4d9a-9090-2bdf5dfea6f9",
   "metadata": {},
   "outputs": [],
   "source": [
    "my_model= joblib.load('new_press_articles_classifier.pkl')"
   ]
  },
  {
   "cell_type": "code",
   "execution_count": 42,
   "id": "90546290-fbe8-469c-b71d-3aa16df89085",
   "metadata": {},
   "outputs": [
    {
     "data": {
      "text/plain": [
       "('Sports', 0.997539639907505, 0.00021408192158735824)"
      ]
     },
     "execution_count": 42,
     "metadata": {},
     "output_type": "execute_result"
    }
   ],
   "source": [
    "article3 = [\n",
    "    'تباينت ردود الفعل الدولية بعد ورود تقارير عن ضربة إسرائيلية على مدينة أصفهان الإيرانية، فجر اليوم الجمعة، فيما يبدو ردا على الهجوم الذي شنته إيران بمئات الصواريخ والمسيرات الأسبوع الماضي على إسرائيل. فقد دعت رئيسة المفوضية الأوروبية أورسولا فون دير لاين إيران وإسرائيل وحلفاءهما إلى الامتناع عن التصعيد في الشرق الأوسط. وقالت وهي تقف بجانب رئيس الوزراء الفنلندي بيتري أوربو في لابينرانتا بفنلندا على بعد نحو 25 كيلومترا من الحدود الروسية \"من الضروري للغاية أن تظل المنطقة مستقرة وأن تمتنع جميع الأطراف عن اتخاذ المزيد من الإجراءات\". كما أعلنت الخارجية الصينية أن بكين تعارض أي عمل من شأنه تصعيد التوتر في المنطقة، وستواصل القيام بدور بناء في تعزيز تهدئة الوضع. وقالت روسيا إنها تدرس المعلومات المتعلقة بالضربة الإسرائيلية المزعومة على إيران وتحث الجانبين على ضبط النفس.انضم المهاجم هوغو إيكيتيكي بشكل نهائي إلى آينتراخت فرانكفورت، بعد أن قام النادي الألماني بتفعيل بند شراء عقده من باريس سان جيرمان. انتل إيكيتيكي إلى صفوف فرانكفورت في يناير الماضي على سبيل الإعارة حتى نهاية الموسم مع خيار الشراء. وبات المهاجم البالغ من العمر 21 عاماً مرتبطاً بشكل نهائي مع فرانكفورت سادس الدوري الألماني، ويمتد عقده مع الفريق حتى 2029. منذ مباراته الأولى مع الفريق الألماني في فبراير الماضي، سجل إيكيتيكي هدفاً واحداً فقط وكان أمام أوغسبورغ يوم الجمعة الماضي. وانتقل إيكيتيكي إلى صفوف باريس سان جيرمان في صيف عام 2022 على سبيل الاعارة من رينس، وتعاقد معه فريق العاصمة الفرنسية بشكل نهائي الصيف الماضي لكنه لم يلعب أي مباراة منذ أغسطس 2023. اللاعب الفرنسي خاض 33 مباراة مع النادي الباريسي، وسجل أربعة أهداف مع أربع تمريرات حاسمة'\n",
    "]\n",
    "predect_new_category(article3, my_model)"
   ]
  },
  {
   "cell_type": "code",
   "execution_count": null,
   "id": "1fec4f4d-7753-4384-b5ff-b222cbb35cbe",
   "metadata": {},
   "outputs": [],
   "source": []
  }
 ],
 "metadata": {
  "kernelspec": {
   "display_name": "Python 3 (ipykernel)",
   "language": "python",
   "name": "python3"
  },
  "language_info": {
   "codemirror_mode": {
    "name": "ipython",
    "version": 3
   },
   "file_extension": ".py",
   "mimetype": "text/x-python",
   "name": "python",
   "nbconvert_exporter": "python",
   "pygments_lexer": "ipython3",
   "version": "3.11.7"
  }
 },
 "nbformat": 4,
 "nbformat_minor": 5
}
